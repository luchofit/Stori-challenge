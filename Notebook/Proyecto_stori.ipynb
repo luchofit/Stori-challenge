{
 "cells": [
  {
   "cell_type": "markdown",
   "metadata": {},
   "source": [
    "# Documentation\n",
    "\n",
    "Here you will find the step-by-step process that was followed for the development of this case.\n",
    "\n",
    "## 1. Downloading csv file\n",
    "\n",
    "The file was downloaded and placed in the \"data\" folder.\n",
    "\n",
    "## 2. Upload it to our PostgreSQL database manager.\n",
    "\n",
    "#### 2.1.  BD and Table creation\n",
    "\n",
    "The Stori database and the stori table are created to store the information from our CSV file. The commands used for creating the database, table, and importing the data were as follows:\n",
    "\n",
    "- Table Creation command:\n",
    "\n",
    "Create table stori (\n",
    "\tindex_ varchar(80),\n",
    "\tcust_id varchar(80),\n",
    "\tactivated_date date,\n",
    "\tlast_payment_date date,\n",
    "\tbalance numeric,\n",
    "\tbalance_frequency numeric,\n",
    "\tpurchases numeric, \n",
    "\toneoff_purchases numeric,\n",
    "\tinstallments_purchases numeric, \n",
    "\tcash_advance numeric,\n",
    "\tpurchases_frequency numeric,\n",
    "\toneoff_purchases_frequency numeric,\n",
    "\tpurchases_installments_frequency numeric,\n",
    "\tcash_advance_frequency numeric,\n",
    "\tcash_advance_trx int,\n",
    "\tpurchases_trx int,\n",
    "\tcredit_limit numeric,\n",
    "\tpayments numeric,\n",
    "\tminimum_payments numeric,\n",
    "\tprc_full_payment numeric,\n",
    "\ttenure int,\n",
    "\tfraud int)\n",
    "\n",
    "- Importation data command:\n",
    "\n",
    "copy public.stori (index_, cust_id, activated_date, last_payment_date, balance, balance_frequency, purchases, oneoff_purchases, installments_purchases, cash_advance, purchases_frequency, oneoff_purchases_frequency, purchases_installments_frequency, cash_advance_frequency, cash_advance_trx, purchases_trx, credit_limit, payments, minimum_payments, prc_full_payment, tenure, fraud) FROM 'C:/Users/calde/OneDrive/ESCRIT~1/Stori/Datos/STORI_~1.CSV' DELIMITER ';' CSV HEADER ENCODING 'UTF8' QUOTE '\\\"' ESCAPE '''';\"\"\n",
    "\n",
    "### 3. Establishing a database connection with Python\n",
    "\n",
    "This step is primarily done in order to conduct an EDA (Exploratory Data Analysis).\n"
   ]
  },
  {
   "cell_type": "code",
   "execution_count": 1,
   "metadata": {},
   "outputs": [],
   "source": [
    "# Importing libraries\n",
    "import psycopg2\n",
    "import psycopg2.extras\n",
    "import pandas as pd\n",
    "import os \n",
    "from pathlib import Path "
   ]
  },
  {
   "cell_type": "code",
   "execution_count": 2,
   "metadata": {},
   "outputs": [],
   "source": [
    "#Establishing connection\n",
    "connection = psycopg2.connect(\n",
    "        host= 'localhost',\n",
    "        dbname = \"Stori\",\n",
    "        user= \"postgres\" ,\n",
    "        password = 'Contraseña',\n",
    "        port = 5432)"
   ]
  },
  {
   "cell_type": "markdown",
   "metadata": {},
   "source": [
    "### 4. I begin querying my table to conduct my EDA."
   ]
  },
  {
   "cell_type": "code",
   "execution_count": 3,
   "metadata": {},
   "outputs": [],
   "source": [
    "#I select all my tables to then put them into a dataframe.\n",
    "Statement1 = \"\"\"\n",
    "Select\n",
    "cust_id,\n",
    "activated_date,\n",
    "last_payment_date,\n",
    "ROUND((balance/1000000),4) balance,\n",
    "balance_frequency,\n",
    "purchases,\n",
    "oneoff_purchases,\n",
    "installments_purchases,\n",
    "ROUND((cash_advance/1000000),4)  as cash_advance,\n",
    "purchases_frequency,\n",
    "oneoff_purchases_frequency,\n",
    "purchases_installments_frequency,\n",
    "cash_advance_frequency,\n",
    "cash_advance_trx,\n",
    "purchases_trx,\n",
    "credit_limit,\n",
    "ROUND((payments/1000000),4) payments,\n",
    "ROUND((minimum_payments/1000000),4) minimum_payments,\n",
    "prc_full_payment,\n",
    "tenure,\n",
    "fraud\n",
    "FROM\n",
    "    stori\n",
    "\n",
    "\"\"\""
   ]
  },
  {
   "cell_type": "code",
   "execution_count": 4,
   "metadata": {},
   "outputs": [
    {
     "name": "stdout",
     "output_type": "stream",
     "text": [
      "<class 'list'>\n"
     ]
    }
   ],
   "source": [
    "# Use the cursor to aim the data\n",
    "cursor = connection.cursor(cursor_factory=psycopg2.extras.DictCursor)\n",
    "cursor.execute(Statement1)\n",
    "df = cursor.fetchall()\n",
    "print(type(df))"
   ]
  },
  {
   "cell_type": "code",
   "execution_count": 5,
   "metadata": {},
   "outputs": [
    {
     "data": {
      "text/html": [
       "<div>\n",
       "<style scoped>\n",
       "    .dataframe tbody tr th:only-of-type {\n",
       "        vertical-align: middle;\n",
       "    }\n",
       "\n",
       "    .dataframe tbody tr th {\n",
       "        vertical-align: top;\n",
       "    }\n",
       "\n",
       "    .dataframe thead th {\n",
       "        text-align: right;\n",
       "    }\n",
       "</style>\n",
       "<table border=\"1\" class=\"dataframe\">\n",
       "  <thead>\n",
       "    <tr style=\"text-align: right;\">\n",
       "      <th></th>\n",
       "      <th>cust_id</th>\n",
       "      <th>activated_date</th>\n",
       "      <th>last_payment_date</th>\n",
       "      <th>balance</th>\n",
       "      <th>balance_frequency</th>\n",
       "      <th>purchases</th>\n",
       "      <th>oneoff_purchases</th>\n",
       "      <th>installments_purchases</th>\n",
       "      <th>cash_advance</th>\n",
       "      <th>purchases_frequency</th>\n",
       "      <th>...</th>\n",
       "      <th>purchases_installments_frequency</th>\n",
       "      <th>cash_advance_frequency</th>\n",
       "      <th>cash_advance_trx</th>\n",
       "      <th>purchases_trx</th>\n",
       "      <th>credit_limit</th>\n",
       "      <th>payments</th>\n",
       "      <th>minimum_payments</th>\n",
       "      <th>prc_full_payment</th>\n",
       "      <th>tenure</th>\n",
       "      <th>fraud</th>\n",
       "    </tr>\n",
       "  </thead>\n",
       "  <tbody>\n",
       "    <tr>\n",
       "      <th>0</th>\n",
       "      <td>C10001</td>\n",
       "      <td>2019-10-06</td>\n",
       "      <td>2020-09-09</td>\n",
       "      <td>40.9007</td>\n",
       "      <td>0.818182</td>\n",
       "      <td>95.4</td>\n",
       "      <td>0</td>\n",
       "      <td>95.4</td>\n",
       "      <td>0.0000</td>\n",
       "      <td>0.166667</td>\n",
       "      <td>...</td>\n",
       "      <td>0.083333</td>\n",
       "      <td>0</td>\n",
       "      <td>0</td>\n",
       "      <td>2</td>\n",
       "      <td>1000</td>\n",
       "      <td>201.8021</td>\n",
       "      <td>139.5098</td>\n",
       "      <td>0</td>\n",
       "      <td>12</td>\n",
       "      <td>0</td>\n",
       "    </tr>\n",
       "    <tr>\n",
       "      <th>1</th>\n",
       "      <td>C10002</td>\n",
       "      <td>2019-10-06</td>\n",
       "      <td>2020-07-04</td>\n",
       "      <td>3202.4674</td>\n",
       "      <td>0.909091</td>\n",
       "      <td>0</td>\n",
       "      <td>0</td>\n",
       "      <td>0</td>\n",
       "      <td>6442.9455</td>\n",
       "      <td>0</td>\n",
       "      <td>...</td>\n",
       "      <td>0</td>\n",
       "      <td>0.25</td>\n",
       "      <td>4</td>\n",
       "      <td>0</td>\n",
       "      <td>7000</td>\n",
       "      <td>4103.0326</td>\n",
       "      <td>1072.3402</td>\n",
       "      <td>0.222222</td>\n",
       "      <td>12</td>\n",
       "      <td>0</td>\n",
       "    </tr>\n",
       "    <tr>\n",
       "      <th>2</th>\n",
       "      <td>C10003</td>\n",
       "      <td>2019-10-06</td>\n",
       "      <td>2020-09-17</td>\n",
       "      <td>2495.1489</td>\n",
       "      <td>1</td>\n",
       "      <td>773.17</td>\n",
       "      <td>773.17</td>\n",
       "      <td>0</td>\n",
       "      <td>0.0000</td>\n",
       "      <td>1</td>\n",
       "      <td>...</td>\n",
       "      <td>0</td>\n",
       "      <td>0</td>\n",
       "      <td>0</td>\n",
       "      <td>12</td>\n",
       "      <td>7500</td>\n",
       "      <td>622.0667</td>\n",
       "      <td>627.2848</td>\n",
       "      <td>0</td>\n",
       "      <td>12</td>\n",
       "      <td>0</td>\n",
       "    </tr>\n",
       "    <tr>\n",
       "      <th>3</th>\n",
       "      <td>C10004</td>\n",
       "      <td>2019-10-06</td>\n",
       "      <td>2020-08-24</td>\n",
       "      <td>1666.6705</td>\n",
       "      <td>0.636364</td>\n",
       "      <td>1499</td>\n",
       "      <td>1499</td>\n",
       "      <td>0</td>\n",
       "      <td>205.7880</td>\n",
       "      <td>0.083333</td>\n",
       "      <td>...</td>\n",
       "      <td>0</td>\n",
       "      <td>0.083333</td>\n",
       "      <td>1</td>\n",
       "      <td>1</td>\n",
       "      <td>7500</td>\n",
       "      <td>0.0000</td>\n",
       "      <td>None</td>\n",
       "      <td>0</td>\n",
       "      <td>12</td>\n",
       "      <td>0</td>\n",
       "    </tr>\n",
       "    <tr>\n",
       "      <th>4</th>\n",
       "      <td>C10005</td>\n",
       "      <td>2019-10-06</td>\n",
       "      <td>2020-10-20</td>\n",
       "      <td>817.7143</td>\n",
       "      <td>1</td>\n",
       "      <td>16</td>\n",
       "      <td>16</td>\n",
       "      <td>0</td>\n",
       "      <td>0.0000</td>\n",
       "      <td>0.083333</td>\n",
       "      <td>...</td>\n",
       "      <td>0</td>\n",
       "      <td>0</td>\n",
       "      <td>0</td>\n",
       "      <td>1</td>\n",
       "      <td>1200</td>\n",
       "      <td>678.3348</td>\n",
       "      <td>244.7912</td>\n",
       "      <td>0</td>\n",
       "      <td>12</td>\n",
       "      <td>0</td>\n",
       "    </tr>\n",
       "  </tbody>\n",
       "</table>\n",
       "<p>5 rows × 21 columns</p>\n",
       "</div>"
      ],
      "text/plain": [
       "  cust_id activated_date last_payment_date    balance balance_frequency  \\\n",
       "0  C10001     2019-10-06        2020-09-09    40.9007          0.818182   \n",
       "1  C10002     2019-10-06        2020-07-04  3202.4674          0.909091   \n",
       "2  C10003     2019-10-06        2020-09-17  2495.1489                 1   \n",
       "3  C10004     2019-10-06        2020-08-24  1666.6705          0.636364   \n",
       "4  C10005     2019-10-06        2020-10-20   817.7143                 1   \n",
       "\n",
       "  purchases oneoff_purchases installments_purchases cash_advance  \\\n",
       "0      95.4                0                   95.4       0.0000   \n",
       "1         0                0                      0    6442.9455   \n",
       "2    773.17           773.17                      0       0.0000   \n",
       "3      1499             1499                      0     205.7880   \n",
       "4        16               16                      0       0.0000   \n",
       "\n",
       "  purchases_frequency  ... purchases_installments_frequency  \\\n",
       "0            0.166667  ...                         0.083333   \n",
       "1                   0  ...                                0   \n",
       "2                   1  ...                                0   \n",
       "3            0.083333  ...                                0   \n",
       "4            0.083333  ...                                0   \n",
       "\n",
       "  cash_advance_frequency cash_advance_trx  purchases_trx  credit_limit  \\\n",
       "0                      0                0              2          1000   \n",
       "1                   0.25                4              0          7000   \n",
       "2                      0                0             12          7500   \n",
       "3               0.083333                1              1          7500   \n",
       "4                      0                0              1          1200   \n",
       "\n",
       "    payments minimum_payments prc_full_payment tenure  fraud  \n",
       "0   201.8021         139.5098                0     12      0  \n",
       "1  4103.0326        1072.3402         0.222222     12      0  \n",
       "2   622.0667         627.2848                0     12      0  \n",
       "3     0.0000             None                0     12      0  \n",
       "4   678.3348         244.7912                0     12      0  \n",
       "\n",
       "[5 rows x 21 columns]"
      ]
     },
     "execution_count": 5,
     "metadata": {},
     "output_type": "execute_result"
    }
   ],
   "source": [
    "# I import pandas and define my dataframe object.\n",
    "import pandas as pd\n",
    "df = pd.DataFrame(df)\n",
    "df.columns =[\"cust_id\",\"activated_date\",\"last_payment_date\",\"balance\",\"balance_frequency\",\"purchases\",\"oneoff_purchases\",\"installments_purchases\",\"cash_advance\",\"purchases_frequency\",\"oneoff_purchases_frequency\",\"purchases_installments_frequency\",\"cash_advance_frequency\",\"cash_advance_trx\",\"purchases_trx\",\"credit_limit\",\"payments\",\"minimum_payments\",\"prc_full_payment\",\"tenure\",\"fraud\"]\n",
    "df.head(5)"
   ]
  },
  {
   "cell_type": "code",
   "execution_count": 6,
   "metadata": {},
   "outputs": [
    {
     "name": "stdout",
     "output_type": "stream",
     "text": [
      "<class 'pandas.core.frame.DataFrame'>\n",
      "RangeIndex: 8950 entries, 0 to 8949\n",
      "Data columns (total 21 columns):\n",
      " #   Column                            Non-Null Count  Dtype \n",
      "---  ------                            --------------  ----- \n",
      " 0   cust_id                           8950 non-null   object\n",
      " 1   activated_date                    8937 non-null   object\n",
      " 2   last_payment_date                 8941 non-null   object\n",
      " 3   balance                           8948 non-null   object\n",
      " 4   balance_frequency                 8950 non-null   object\n",
      " 5   purchases                         8950 non-null   object\n",
      " 6   oneoff_purchases                  8950 non-null   object\n",
      " 7   installments_purchases            8950 non-null   object\n",
      " 8   cash_advance                      8838 non-null   object\n",
      " 9   purchases_frequency               8950 non-null   object\n",
      " 10  oneoff_purchases_frequency        8950 non-null   object\n",
      " 11  purchases_installments_frequency  8950 non-null   object\n",
      " 12  cash_advance_frequency            8950 non-null   object\n",
      " 13  cash_advance_trx                  8950 non-null   int64 \n",
      " 14  purchases_trx                     8950 non-null   int64 \n",
      " 15  credit_limit                      8949 non-null   object\n",
      " 16  payments                          8950 non-null   object\n",
      " 17  minimum_payments                  8629 non-null   object\n",
      " 18  prc_full_payment                  8950 non-null   object\n",
      " 19  tenure                            8950 non-null   int64 \n",
      " 20  fraud                             8950 non-null   int64 \n",
      "dtypes: int64(4), object(17)\n",
      "memory usage: 1.4+ MB\n"
     ]
    }
   ],
   "source": [
    "#Info de mi dataframe\n",
    "df.info()"
   ]
  },
  {
   "cell_type": "code",
   "execution_count": 8,
   "metadata": {},
   "outputs": [],
   "source": [
    "# Convertir los tipos de datos del DataFrame de Python\n",
    "df['cust_id'] = df['cust_id'].astype('object')\n",
    "df['activated_date'] = pd.to_datetime(df['activated_date']) # Convertir a tipo de fecha\n",
    "df['last_payment_date'] = pd.to_datetime(df['last_payment_date']) # Convertir a tipo de fecha\n",
    "df['balance'] = df['balance'].astype('float') # Convertir a tipo de dato float\n",
    "df['balance_frequency'] = df['balance_frequency'].astype('float') # Convertir a tipo de dato float\n",
    "df['purchases'] = df['purchases'].astype('float') # Convertir a tipo de dato float\n",
    "df['oneoff_purchases'] = df['oneoff_purchases'].astype('float') # Convertir a tipo de dato float\n",
    "df['installments_purchases'] = df['installments_purchases'].astype('float') # Convertir a tipo de dato float\n",
    "df['cash_advance'] = df['cash_advance'].astype('float') # Convertir a tipo de dato float\n",
    "df['purchases_frequency'] = df['purchases_frequency'].astype('float') # Convertir a tipo de dato float\n",
    "df['oneoff_purchases_frequency'] = df['oneoff_purchases_frequency'].astype('float') # Convertir a tipo de dato float\n",
    "df['purchases_installments_frequency'] = df['purchases_installments_frequency'].astype('float') # Convertir a tipo de dato float\n",
    "df['cash_advance_frequency'] = df['cash_advance_frequency'].astype('float') # Convertir a tipo de dato float\n",
    "df['cash_advance_trx'] = df['cash_advance_trx'].astype('int64') # Mantener como int64\n",
    "df['purchases_trx'] = df['purchases_trx'].astype('int64') # Mantener como int64\n",
    "df['credit_limit'] = df['credit_limit'].astype('float') # Convertir a tipo de dato float\n",
    "df['payments'] = df['payments'].astype('float') # Convertir a tipo de dato float\n",
    "df['minimum_payments'] = df['minimum_payments'].astype('float') # Convertir a tipo de dato float\n",
    "df['prc_full_payment'] = df['prc_full_payment'].astype('float') # Convertir a tipo de dato float\n",
    "df['tenure'] = df['tenure'].astype('int64') # Mantener como int64\n",
    "df['fraud'] = df['fraud'].astype('int64') # Mantener como int64"
   ]
  },
  {
   "cell_type": "code",
   "execution_count": 9,
   "metadata": {},
   "outputs": [
    {
     "name": "stdout",
     "output_type": "stream",
     "text": [
      "<class 'pandas.core.frame.DataFrame'>\n",
      "RangeIndex: 8950 entries, 0 to 8949\n",
      "Data columns (total 21 columns):\n",
      " #   Column                            Non-Null Count  Dtype         \n",
      "---  ------                            --------------  -----         \n",
      " 0   cust_id                           8950 non-null   object        \n",
      " 1   activated_date                    8937 non-null   datetime64[ns]\n",
      " 2   last_payment_date                 8941 non-null   datetime64[ns]\n",
      " 3   balance                           8948 non-null   float64       \n",
      " 4   balance_frequency                 8950 non-null   float64       \n",
      " 5   purchases                         8950 non-null   float64       \n",
      " 6   oneoff_purchases                  8950 non-null   float64       \n",
      " 7   installments_purchases            8950 non-null   float64       \n",
      " 8   cash_advance                      8838 non-null   float64       \n",
      " 9   purchases_frequency               8950 non-null   float64       \n",
      " 10  oneoff_purchases_frequency        8950 non-null   float64       \n",
      " 11  purchases_installments_frequency  8950 non-null   float64       \n",
      " 12  cash_advance_frequency            8950 non-null   float64       \n",
      " 13  cash_advance_trx                  8950 non-null   int64         \n",
      " 14  purchases_trx                     8950 non-null   int64         \n",
      " 15  credit_limit                      8949 non-null   float64       \n",
      " 16  payments                          8950 non-null   float64       \n",
      " 17  minimum_payments                  8629 non-null   float64       \n",
      " 18  prc_full_payment                  8950 non-null   float64       \n",
      " 19  tenure                            8950 non-null   int64         \n",
      " 20  fraud                             8950 non-null   int64         \n",
      "dtypes: datetime64[ns](2), float64(14), int64(4), object(1)\n",
      "memory usage: 1.4+ MB\n"
     ]
    }
   ],
   "source": [
    "df.info()"
   ]
  },
  {
   "cell_type": "code",
   "execution_count": 10,
   "metadata": {},
   "outputs": [
    {
     "name": "stdout",
     "output_type": "stream",
     "text": [
      "Variables categóricas:\n",
      "Index(['cust_id'], dtype='object')\n",
      "\n",
      "Variables numéricas:\n",
      "Index(['activated_date', 'last_payment_date', 'balance', 'balance_frequency',\n",
      "       'purchases', 'oneoff_purchases', 'installments_purchases',\n",
      "       'cash_advance', 'purchases_frequency', 'oneoff_purchases_frequency',\n",
      "       'purchases_installments_frequency', 'cash_advance_frequency',\n",
      "       'cash_advance_trx', 'purchases_trx', 'credit_limit', 'payments',\n",
      "       'minimum_payments', 'prc_full_payment', 'tenure', 'fraud'],\n",
      "      dtype='object')\n"
     ]
    }
   ],
   "source": [
    "# Obtener las columnas con tipos de datos object (categóricas)\n",
    "categoricas = df.select_dtypes(include=['object'])\n",
    "\n",
    "# Obtener las columnas con tipos de datos numéricos\n",
    "numericas = df.select_dtypes(exclude=['object'])\n",
    "\n",
    "# Mostrar los nombres de las columnas en cada grupo\n",
    "print(\"Variables categóricas:\")\n",
    "print(categoricas.columns)\n",
    "\n",
    "print(\"\\nVariables numéricas:\")\n",
    "print(numericas.columns)\n"
   ]
  },
  {
   "cell_type": "code",
   "execution_count": 11,
   "metadata": {},
   "outputs": [
    {
     "data": {
      "text/plain": [
       "float64           14\n",
       "int64              4\n",
       "datetime64[ns]     2\n",
       "object             1\n",
       "dtype: int64"
      ]
     },
     "execution_count": 11,
     "metadata": {},
     "output_type": "execute_result"
    }
   ],
   "source": [
    "#Count by variable type\n",
    "df.dtypes.value_counts()"
   ]
  },
  {
   "cell_type": "code",
   "execution_count": 12,
   "metadata": {},
   "outputs": [
    {
     "data": {
      "text/plain": [
       "(8950, 21)"
      ]
     },
     "execution_count": 12,
     "metadata": {},
     "output_type": "execute_result"
    }
   ],
   "source": [
    "# Dataframe size\n",
    "df.shape"
   ]
  },
  {
   "cell_type": "markdown",
   "metadata": {},
   "source": [
    "#### Are there explicit null values in the dataset?"
   ]
  },
  {
   "cell_type": "code",
   "execution_count": 13,
   "metadata": {},
   "outputs": [
    {
     "data": {
      "text/plain": [
       "cust_id                             False\n",
       "activated_date                       True\n",
       "last_payment_date                    True\n",
       "balance                              True\n",
       "balance_frequency                   False\n",
       "purchases                           False\n",
       "oneoff_purchases                    False\n",
       "installments_purchases              False\n",
       "cash_advance                         True\n",
       "purchases_frequency                 False\n",
       "oneoff_purchases_frequency          False\n",
       "purchases_installments_frequency    False\n",
       "cash_advance_frequency              False\n",
       "cash_advance_trx                    False\n",
       "purchases_trx                       False\n",
       "credit_limit                         True\n",
       "payments                            False\n",
       "minimum_payments                     True\n",
       "prc_full_payment                    False\n",
       "tenure                              False\n",
       "fraud                               False\n",
       "dtype: bool"
      ]
     },
     "execution_count": 13,
     "metadata": {},
     "output_type": "execute_result"
    }
   ],
   "source": [
    "df.isnull().any()"
   ]
  },
  {
   "cell_type": "markdown",
   "metadata": {},
   "source": [
    "#### If there are observations with null values, how many do we have for each variable?"
   ]
  },
  {
   "cell_type": "code",
   "execution_count": 14,
   "metadata": {},
   "outputs": [
    {
     "data": {
      "text/plain": [
       "cust_id                               0\n",
       "activated_date                       13\n",
       "last_payment_date                     9\n",
       "balance                               2\n",
       "balance_frequency                     0\n",
       "purchases                             0\n",
       "oneoff_purchases                      0\n",
       "installments_purchases                0\n",
       "cash_advance                        112\n",
       "purchases_frequency                   0\n",
       "oneoff_purchases_frequency            0\n",
       "purchases_installments_frequency      0\n",
       "cash_advance_frequency                0\n",
       "cash_advance_trx                      0\n",
       "purchases_trx                         0\n",
       "credit_limit                          1\n",
       "payments                              0\n",
       "minimum_payments                    321\n",
       "prc_full_payment                      0\n",
       "tenure                                0\n",
       "fraud                                 0\n",
       "dtype: int64"
      ]
     },
     "execution_count": 14,
     "metadata": {},
     "output_type": "execute_result"
    }
   ],
   "source": [
    "df.isnull().sum()"
   ]
  },
  {
   "cell_type": "markdown",
   "metadata": {},
   "source": [
    "#### How many null values do we have in total in the dataset?"
   ]
  },
  {
   "cell_type": "code",
   "execution_count": 15,
   "metadata": {},
   "outputs": [
    {
     "data": {
      "text/plain": [
       "458"
      ]
     },
     "execution_count": 15,
     "metadata": {},
     "output_type": "execute_result"
    }
   ],
   "source": [
    "df.isnull().sum().sum()"
   ]
  },
  {
   "cell_type": "code",
   "execution_count": 16,
   "metadata": {},
   "outputs": [],
   "source": [
    "import seaborn as sns\n",
    "import matplotlib.pyplot as plt"
   ]
  },
  {
   "cell_type": "code",
   "execution_count": 17,
   "metadata": {},
   "outputs": [
    {
     "data": {
      "text/plain": [
       "<seaborn.axisgrid.FacetGrid at 0x20ee0c66f20>"
      ]
     },
     "execution_count": 17,
     "metadata": {},
     "output_type": "execute_result"
    },
    {
     "data": {
      "image/png": "[encoded data removed]",
      "text/plain": [
       "<Figure size 1884.88x900 with 1 Axes>"
      ]
     },
     "metadata": {},
     "output_type": "display_data"
    }
   ],
   "source": [
    "# Checking proportion of null values\n",
    "df.isnull().melt().pipe(lambda df:\n",
    "(sns.displot(data=df,y=\"variable\", hue=\"value\",multiple=\"fill\", aspect=2, height=9)))"
   ]
  },
  {
   "cell_type": "markdown",
   "metadata": {},
   "source": [
    "#### Let's explore our outlier values. \n",
    "\n",
    "The first thing I'm going to do is find some statistics to begin identifying my outliers."
   ]
  },
  {
   "cell_type": "code",
   "execution_count": 18,
   "metadata": {},
   "outputs": [],
   "source": [
    "#I define my function to avoid repeating code\n",
    "def calcular_quartiles(columna):\n",
    "    promedio = columna.mean()\n",
    "    median = columna.median()\n",
    "    Q1 = columna.quantile(q=0.25)\n",
    "    Q3 = columna.quantile(q=0.75)\n",
    "    min_val = columna.quantile(q=0)\n",
    "    max_val = columna.quantile(q=1.0)\n",
    "    return min_val, Q1, promedio,  median, Q3, max_val"
   ]
  },
  {
   "cell_type": "code",
   "execution_count": 19,
   "metadata": {},
   "outputs": [
    {
     "name": "stdout",
     "output_type": "stream",
     "text": [
      "  Estadística        Valor\n",
      "0      Mínimo     0.000000\n",
      "1          Q1    90.996875\n",
      "2    promedio  1354.648095\n",
      "3     Mediana   673.475500\n",
      "4          Q3  1817.823950\n",
      "5      Máximo  9993.352500\n"
     ]
    }
   ],
   "source": [
    "# Execute the calculate_quartiles function for a specific column.\n",
    "min_val, Q1, promedio,  median, Q3, max_val = calcular_quartiles(numericas[\"balance\"])\n",
    "\n",
    "# Create a DataFrame with the results\n",
    "resultados_balance = pd.DataFrame({\n",
    "    'Estadística': ['Mínimo', 'Q1', 'promedio','Mediana', 'Q3', 'Máximo'],\n",
    "    'Valor': [min_val, Q1, promedio, median, Q3, max_val]\n",
    "})\n",
    "\n",
    "# Display the DataFrame with the results\n",
    "print(resultados_balance)\n",
    "\n"
   ]
  },
  {
   "cell_type": "markdown",
   "metadata": {},
   "source": [
    "### Thresholds for outlier detection (symmetrically distributed data).\n",
    "\n",
    "Data between $$Q_1 -1.5 \\times \\text{IQR}$$ and $$Q_3 + 1.5 \\times \\text{IQR}$$"
   ]
  },
  {
   "cell_type": "code",
   "execution_count": 18,
   "metadata": {},
   "outputs": [
    {
     "name": "stdout",
     "output_type": "stream",
     "text": [
      "rango para detección de outliers: -2499243682.625, 4408064552.375\n"
     ]
    }
   ],
   "source": [
    "# Find my IQR (Interquartile Range).\n",
    "iqr = Q3 - Q1\n",
    "## Range\n",
    "minlimit = Q1 - 1.5*iqr\n",
    "maxlimit = Q3 + 1.5*iqr\n",
    "print('rango para detección de outliers: {}, {}'.format(minlimit, maxlimit))\n"
   ]
  },
  {
   "cell_type": "code",
   "execution_count": 19,
   "metadata": {},
   "outputs": [
    {
     "name": "stdout",
     "output_type": "stream",
     "text": [
      "1726827058.75     90996905.5     1817823964.25     1354648095.6110911\n"
     ]
    }
   ],
   "source": [
    "print(iqr,\"   \",Q1,\"   \",Q3, \"   \", promedio )"
   ]
  },
  {
   "cell_type": "code",
   "execution_count": 20,
   "metadata": {},
   "outputs": [
    {
     "data": {
      "text/plain": [
       "[Text(0.5, 0, '')]"
      ]
     },
     "execution_count": 20,
     "metadata": {},
     "output_type": "execute_result"
    },
    {
     "data": {
      "image/png": "[encoded data removed]",
      "text/plain": [
       "<Figure size 1000x800 with 2 Axes>"
      ]
     },
     "metadata": {},
     "output_type": "display_data"
    }
   ],
   "source": [
    "sns.set(rc={'figure.figsize':(10,8)})\n",
    "f, (ax_hist, ax_box) = plt.subplots(2, sharex=True, gridspec_kw={\"height_ratios\": (.6, .4)})\n",
    "sns.histplot(numericas[\"balance\"], ax=ax_hist)\n",
    "sns.boxplot(data=numericas, x=\"balance\", ax=ax_box)\n",
    "ax_hist.set(xlabel='')"
   ]
  },
  {
   "cell_type": "markdown",
   "metadata": {},
   "source": [
    "### Note\n",
    "The notation 1e10 refers to a number expressed in scientific notation, where 1e10 means \"1 multiplied by 10 raised to the power of 10.\" It's a compact way of writing large numbers. For example, the number 0.2 appearing on the X-axis is not 0.2 but 0.2 1e10, which means 0.2 multiplied by 10 raised to the power of 10, equaling 2,000,000,000.\n",
    "Now, if I wanted to visualize this code by category:\n",
    "\n",
    "#### Code to visualize by category\n",
    "sns.boxplot(x='cust_id', y='balance', data=numerical)\n",
    "\n",
    "*The issue is that each customer should have a unique ID, so I would have multiple box plots, making it difficult to analyze outliers.*\n",
    "\n",
    "### Conclusion on Outliers\n",
    "For the balance case, we found that the data is grouped within a certain range of the sample space (mainly between 90,996,905.5 and 1,817,823,964.25, which would be the Q1 and Q3), and there aren't many atypical values for this specific column."
   ]
  },
  {
   "cell_type": "markdown",
   "metadata": {},
   "source": [
    "## 5. Approaching Questions\n",
    "\n",
    "After completing my EDA, it's time to address the questions and, if necessary, perform the corresponding data imputation. \n",
    "\n",
    "### Question 1\n",
    "- 1.1. Plot an histogram of the balance amount for all the customers.\n",
    "\n",
    "Since we only found 2 null values in this column after conducting our EDA, what I'm going to do is replace these null values with the mean of my sample. To achieve this, I'll apply a function from my relational database manager to apply it to my query and bring here the query I need to just plot it.\n",
    "\n",
    "- PL/pgSQL Function"
   ]
  },
  {
   "cell_type": "code",
   "execution_count": null,
   "metadata": {},
   "outputs": [],
   "source": [
    "\"\"\"$$CREATE OR REPLACE FUNCTION calcular_promedio(columna_name TEXT)\n",
    "RETURNS NUMERIC AS $$\n",
    "DECLARE\n",
    "    avg_value NUMERIC;\n",
    "BEGIN\n",
    "    EXECUTE format('SELECT AVG(%I) FROM stori', columna_name) INTO avg_value;\n",
    "    RETURN avg_value;\n",
    "END;\n",
    "$$ LANGUAGE plpgsql;$$\"\"\""
   ]
  },
  {
   "cell_type": "markdown",
   "metadata": {},
   "source": [
    "Once I've created my query, I'll verify that the resulting value is the same as what I obtained in my previous EDA.\n",
    "\n",
    "<img src=\"Img_1.png\">\n",
    "\n",
    "After verifying this value, I generate the statement for my query."
   ]
  },
  {
   "cell_type": "code",
   "execution_count": 21,
   "metadata": {},
   "outputs": [],
   "source": [
    "Statemente_1_1 = \"select  cust_id, COALESCE(balance,calcular_promedio('balance')) from stori\""
   ]
  },
  {
   "cell_type": "code",
   "execution_count": 22,
   "metadata": {},
   "outputs": [
    {
     "name": "stdout",
     "output_type": "stream",
     "text": [
      "<class 'list'>\n"
     ]
    }
   ],
   "source": [
    "# Use the cursor to aim the data\n",
    "cursor = connection.cursor(cursor_factory=psycopg2.extras.DictCursor)\n",
    "cursor.execute(Statemente_1_1)\n",
    "df = cursor.fetchall()\n",
    "print(type(df))"
   ]
  },
  {
   "cell_type": "code",
   "execution_count": 23,
   "metadata": {},
   "outputs": [
    {
     "data": {
      "text/html": [
       "<div>\n",
       "<style scoped>\n",
       "    .dataframe tbody tr th:only-of-type {\n",
       "        vertical-align: middle;\n",
       "    }\n",
       "\n",
       "    .dataframe tbody tr th {\n",
       "        vertical-align: top;\n",
       "    }\n",
       "\n",
       "    .dataframe thead th {\n",
       "        text-align: right;\n",
       "    }\n",
       "</style>\n",
       "<table border=\"1\" class=\"dataframe\">\n",
       "  <thead>\n",
       "    <tr style=\"text-align: right;\">\n",
       "      <th></th>\n",
       "      <th>cust_id</th>\n",
       "      <th>balance</th>\n",
       "    </tr>\n",
       "  </thead>\n",
       "  <tbody>\n",
       "    <tr>\n",
       "      <th>0</th>\n",
       "      <td>C10001</td>\n",
       "      <td>40900749</td>\n",
       "    </tr>\n",
       "    <tr>\n",
       "      <th>1</th>\n",
       "      <td>C10002</td>\n",
       "      <td>3202467416</td>\n",
       "    </tr>\n",
       "    <tr>\n",
       "      <th>2</th>\n",
       "      <td>C10003</td>\n",
       "      <td>2495148862</td>\n",
       "    </tr>\n",
       "    <tr>\n",
       "      <th>3</th>\n",
       "      <td>C10004</td>\n",
       "      <td>1666670542</td>\n",
       "    </tr>\n",
       "    <tr>\n",
       "      <th>4</th>\n",
       "      <td>C10005</td>\n",
       "      <td>817714335</td>\n",
       "    </tr>\n",
       "  </tbody>\n",
       "</table>\n",
       "</div>"
      ],
      "text/plain": [
       "  cust_id     balance\n",
       "0  C10001    40900749\n",
       "1  C10002  3202467416\n",
       "2  C10003  2495148862\n",
       "3  C10004  1666670542\n",
       "4  C10005   817714335"
      ]
     },
     "execution_count": 23,
     "metadata": {},
     "output_type": "execute_result"
    }
   ],
   "source": [
    "# I import pandas and define my dataframe object.\n",
    "import pandas as pd\n",
    "df = pd.DataFrame(df)\n",
    "df.columns =[\"cust_id\",\"balance\"]\n",
    "df.head(5)"
   ]
  },
  {
   "cell_type": "code",
   "execution_count": 24,
   "metadata": {},
   "outputs": [
    {
     "data": {
      "image/png": "[encoded data removed]",
      "text/plain": [
       "<Figure size 1000x600 with 1 Axes>"
      ]
     },
     "metadata": {},
     "output_type": "display_data"
    }
   ],
   "source": [
    "# Create the histogram\n",
    "plt.figure(figsize=(10, 6))  # Size of the figure\n",
    "\n",
    "# Balance histogram.\n",
    "n, bins, patches = plt.hist(df['balance'], bins=30, color='skyblue', edgecolor='black')  # Definir el color y el borde\n",
    "plt.title('Distribución del saldo de los clientes')  # Título del gráfico\n",
    "plt.xlabel('balance')  # X-axis label.\n",
    "plt.ylabel('Número de clientes')  # Y-axis label.\n",
    "\n",
    "# Add legend\n",
    "plt.legend(['balance'])\n",
    "\n",
    "# Add data labels to each baR\n",
    "for rect in patches:\n",
    "    height = rect.get_height()\n",
    "    plt.text(rect.get_x() + rect.get_width()/2.0, height, f'{int(height)}', ha='center', va='bottom')\n",
    "\n",
    "# Show the histogram\n",
    "plt.show()"
   ]
  },
  {
   "cell_type": "markdown",
   "metadata": {},
   "source": [
    "- 1.2. Report any structure you find and any hypotheses you have about that structure.\n",
    "\n",
    "R= Just as we identified in our EDA, the majority of data is clustered between 90,996,905.5 and 1,817,823,964.25, which correspond to Q1 and Q3. We mainly observe that these data are heavily skewed, given the 3613 records with a balance in the first bin of our graph. What I can deduce from this graph is that there are no negative balances, indicating that customers are diligent in paying off their debts. However, we could say they are living on the edge (financially speaking) since the majority's balance is not significantly high, or it could be considered an outlier. However, to draw this conclusion, we are conducting a univariate analysis, and we cannot reach a much deeper insight yet.\n",
    "\n",
    "- 1.3. Report mean and median balance, grouped by year and month of activated_date.\n",
    "\n",
    "Similarly, I'll use SQL to answer this question. The query I'll use to retrieve the information from my database is as follows:"
   ]
  },
  {
   "cell_type": "code",
   "execution_count": 26,
   "metadata": {},
   "outputs": [],
   "source": [
    "Statemente_1_3 = \"\"\"\n",
    "SELECT\n",
    "    EXTRACT(YEAR FROM activated_date) AS year,\n",
    "    EXTRACT(MONTH FROM activated_date) AS month,\n",
    "    percentile_cont(0.5) WITHIN GROUP (ORDER BY balance) AS median_balance,\n",
    "    CAST(AVG(balance) AS double precision) AS average_balance\n",
    "FROM\n",
    "    stori\n",
    "GROUP BY\n",
    "    year,\n",
    "    month;\n",
    "\"\"\"\n"
   ]
  },
  {
   "cell_type": "code",
   "execution_count": 27,
   "metadata": {},
   "outputs": [
    {
     "name": "stdout",
     "output_type": "stream",
     "text": [
      "<class 'list'>\n"
     ]
    }
   ],
   "source": [
    "# Use the cursor to aim the data\n",
    "cursor = connection.cursor(cursor_factory=psycopg2.extras.DictCursor)\n",
    "cursor.execute(Statemente_1_3)\n",
    "df = cursor.fetchall()\n",
    "print(type(df))"
   ]
  },
  {
   "cell_type": "code",
   "execution_count": 28,
   "metadata": {},
   "outputs": [
    {
     "data": {
      "text/html": [
       "<div>\n",
       "<style scoped>\n",
       "    .dataframe tbody tr th:only-of-type {\n",
       "        vertical-align: middle;\n",
       "    }\n",
       "\n",
       "    .dataframe tbody tr th {\n",
       "        vertical-align: top;\n",
       "    }\n",
       "\n",
       "    .dataframe thead th {\n",
       "        text-align: right;\n",
       "    }\n",
       "</style>\n",
       "<table border=\"1\" class=\"dataframe\">\n",
       "  <thead>\n",
       "    <tr style=\"text-align: right;\">\n",
       "      <th></th>\n",
       "      <th>YEAR</th>\n",
       "      <th>MONTH</th>\n",
       "      <th>Median_balance</th>\n",
       "      <th>Average_balance</th>\n",
       "    </tr>\n",
       "  </thead>\n",
       "  <tbody>\n",
       "    <tr>\n",
       "      <th>0</th>\n",
       "      <td>2019</td>\n",
       "      <td>10</td>\n",
       "      <td>1.191584e+09</td>\n",
       "      <td>1.988509e+09</td>\n",
       "    </tr>\n",
       "    <tr>\n",
       "      <th>1</th>\n",
       "      <td>2019</td>\n",
       "      <td>11</td>\n",
       "      <td>9.025654e+08</td>\n",
       "      <td>1.567504e+09</td>\n",
       "    </tr>\n",
       "    <tr>\n",
       "      <th>2</th>\n",
       "      <td>2019</td>\n",
       "      <td>12</td>\n",
       "      <td>1.052562e+09</td>\n",
       "      <td>1.769914e+09</td>\n",
       "    </tr>\n",
       "    <tr>\n",
       "      <th>3</th>\n",
       "      <td>2020</td>\n",
       "      <td>1</td>\n",
       "      <td>1.037137e+09</td>\n",
       "      <td>1.627167e+09</td>\n",
       "    </tr>\n",
       "    <tr>\n",
       "      <th>4</th>\n",
       "      <td>2020</td>\n",
       "      <td>2</td>\n",
       "      <td>8.491913e+08</td>\n",
       "      <td>1.533852e+09</td>\n",
       "    </tr>\n",
       "    <tr>\n",
       "      <th>5</th>\n",
       "      <td>2020</td>\n",
       "      <td>3</td>\n",
       "      <td>6.347654e+08</td>\n",
       "      <td>1.357245e+09</td>\n",
       "    </tr>\n",
       "    <tr>\n",
       "      <th>6</th>\n",
       "      <td>2020</td>\n",
       "      <td>4</td>\n",
       "      <td>7.406939e+08</td>\n",
       "      <td>1.303230e+09</td>\n",
       "    </tr>\n",
       "    <tr>\n",
       "      <th>7</th>\n",
       "      <td>2020</td>\n",
       "      <td>5</td>\n",
       "      <td>5.284708e+08</td>\n",
       "      <td>1.097296e+09</td>\n",
       "    </tr>\n",
       "    <tr>\n",
       "      <th>8</th>\n",
       "      <td>2020</td>\n",
       "      <td>6</td>\n",
       "      <td>3.455323e+08</td>\n",
       "      <td>8.362509e+08</td>\n",
       "    </tr>\n",
       "    <tr>\n",
       "      <th>9</th>\n",
       "      <td>2020</td>\n",
       "      <td>7</td>\n",
       "      <td>1.426375e+08</td>\n",
       "      <td>5.772894e+08</td>\n",
       "    </tr>\n",
       "    <tr>\n",
       "      <th>10</th>\n",
       "      <td>None</td>\n",
       "      <td>None</td>\n",
       "      <td>9.671777e+08</td>\n",
       "      <td>1.170315e+09</td>\n",
       "    </tr>\n",
       "  </tbody>\n",
       "</table>\n",
       "</div>"
      ],
      "text/plain": [
       "    YEAR MONTH  Median_balance  Average_balance\n",
       "0   2019    10    1.191584e+09     1.988509e+09\n",
       "1   2019    11    9.025654e+08     1.567504e+09\n",
       "2   2019    12    1.052562e+09     1.769914e+09\n",
       "3   2020     1    1.037137e+09     1.627167e+09\n",
       "4   2020     2    8.491913e+08     1.533852e+09\n",
       "5   2020     3    6.347654e+08     1.357245e+09\n",
       "6   2020     4    7.406939e+08     1.303230e+09\n",
       "7   2020     5    5.284708e+08     1.097296e+09\n",
       "8   2020     6    3.455323e+08     8.362509e+08\n",
       "9   2020     7    1.426375e+08     5.772894e+08\n",
       "10  None  None    9.671777e+08     1.170315e+09"
      ]
     },
     "execution_count": 28,
     "metadata": {},
     "output_type": "execute_result"
    }
   ],
   "source": [
    "# I import pandas and define my dataframe object.\n",
    "import pandas as pd\n",
    "df = pd.DataFrame(df)\n",
    "df.columns =[\"YEAR\",\"MONTH\",\"Median_balance\",\"Average_balance\"]\n",
    "df"
   ]
  },
  {
   "cell_type": "code",
   "execution_count": 96,
   "metadata": {},
   "outputs": [
    {
     "name": "stdout",
     "output_type": "stream",
     "text": [
      "<class 'pandas.core.frame.DataFrame'>\n",
      "RangeIndex: 11 entries, 0 to 10\n",
      "Data columns (total 4 columns):\n",
      " #   Column           Non-Null Count  Dtype  \n",
      "---  ------           --------------  -----  \n",
      " 0   YEAR             10 non-null     object \n",
      " 1   MONTH            10 non-null     object \n",
      " 2   Median_balance   11 non-null     float64\n",
      " 3   Average_balance  11 non-null     float64\n",
      "dtypes: float64(2), object(2)\n",
      "memory usage: 480.0+ bytes\n"
     ]
    }
   ],
   "source": [
    "df.info()"
   ]
  },
  {
   "cell_type": "code",
   "execution_count": 29,
   "metadata": {},
   "outputs": [
    {
     "name": "stderr",
     "output_type": "stream",
     "text": [
      "C:\\Users\\calde\\AppData\\Local\\Temp\\ipykernel_28216\\1659558361.py:3: SettingWithCopyWarning: \n",
      "A value is trying to be set on a copy of a slice from a DataFrame.\n",
      "Try using .loc[row_indexer,col_indexer] = value instead\n",
      "\n",
      "See the caveats in the documentation: https://pandas.pydata.org/pandas-docs/stable/user_guide/indexing.html#returning-a-view-versus-a-copy\n",
      "  df['Fecha'] = pd.to_datetime(df['Fecha'], format='%Y-%m')\n"
     ]
    },
    {
     "data": {
      "text/html": [
       "<div>\n",
       "<style scoped>\n",
       "    .dataframe tbody tr th:only-of-type {\n",
       "        vertical-align: middle;\n",
       "    }\n",
       "\n",
       "    .dataframe tbody tr th {\n",
       "        vertical-align: top;\n",
       "    }\n",
       "\n",
       "    .dataframe thead th {\n",
       "        text-align: right;\n",
       "    }\n",
       "</style>\n",
       "<table border=\"1\" class=\"dataframe\">\n",
       "  <thead>\n",
       "    <tr style=\"text-align: right;\">\n",
       "      <th></th>\n",
       "      <th>YEAR</th>\n",
       "      <th>MONTH</th>\n",
       "      <th>Median_balance</th>\n",
       "      <th>Average_balance</th>\n",
       "      <th>Fecha</th>\n",
       "    </tr>\n",
       "  </thead>\n",
       "  <tbody>\n",
       "    <tr>\n",
       "      <th>0</th>\n",
       "      <td>2019</td>\n",
       "      <td>10</td>\n",
       "      <td>1.191584e+09</td>\n",
       "      <td>1.988509e+09</td>\n",
       "      <td>2019-10-01</td>\n",
       "    </tr>\n",
       "    <tr>\n",
       "      <th>1</th>\n",
       "      <td>2019</td>\n",
       "      <td>11</td>\n",
       "      <td>9.025654e+08</td>\n",
       "      <td>1.567504e+09</td>\n",
       "      <td>2019-11-01</td>\n",
       "    </tr>\n",
       "    <tr>\n",
       "      <th>2</th>\n",
       "      <td>2019</td>\n",
       "      <td>12</td>\n",
       "      <td>1.052562e+09</td>\n",
       "      <td>1.769914e+09</td>\n",
       "      <td>2019-12-01</td>\n",
       "    </tr>\n",
       "    <tr>\n",
       "      <th>3</th>\n",
       "      <td>2020</td>\n",
       "      <td>1</td>\n",
       "      <td>1.037137e+09</td>\n",
       "      <td>1.627167e+09</td>\n",
       "      <td>2020-01-01</td>\n",
       "    </tr>\n",
       "    <tr>\n",
       "      <th>4</th>\n",
       "      <td>2020</td>\n",
       "      <td>2</td>\n",
       "      <td>8.491913e+08</td>\n",
       "      <td>1.533852e+09</td>\n",
       "      <td>2020-02-01</td>\n",
       "    </tr>\n",
       "    <tr>\n",
       "      <th>5</th>\n",
       "      <td>2020</td>\n",
       "      <td>3</td>\n",
       "      <td>6.347654e+08</td>\n",
       "      <td>1.357245e+09</td>\n",
       "      <td>2020-03-01</td>\n",
       "    </tr>\n",
       "    <tr>\n",
       "      <th>6</th>\n",
       "      <td>2020</td>\n",
       "      <td>4</td>\n",
       "      <td>7.406939e+08</td>\n",
       "      <td>1.303230e+09</td>\n",
       "      <td>2020-04-01</td>\n",
       "    </tr>\n",
       "    <tr>\n",
       "      <th>7</th>\n",
       "      <td>2020</td>\n",
       "      <td>5</td>\n",
       "      <td>5.284708e+08</td>\n",
       "      <td>1.097296e+09</td>\n",
       "      <td>2020-05-01</td>\n",
       "    </tr>\n",
       "    <tr>\n",
       "      <th>8</th>\n",
       "      <td>2020</td>\n",
       "      <td>6</td>\n",
       "      <td>3.455323e+08</td>\n",
       "      <td>8.362509e+08</td>\n",
       "      <td>2020-06-01</td>\n",
       "    </tr>\n",
       "    <tr>\n",
       "      <th>9</th>\n",
       "      <td>2020</td>\n",
       "      <td>7</td>\n",
       "      <td>1.426375e+08</td>\n",
       "      <td>5.772894e+08</td>\n",
       "      <td>2020-07-01</td>\n",
       "    </tr>\n",
       "  </tbody>\n",
       "</table>\n",
       "</div>"
      ],
      "text/plain": [
       "   YEAR MONTH  Median_balance  Average_balance      Fecha\n",
       "0  2019    10    1.191584e+09     1.988509e+09 2019-10-01\n",
       "1  2019    11    9.025654e+08     1.567504e+09 2019-11-01\n",
       "2  2019    12    1.052562e+09     1.769914e+09 2019-12-01\n",
       "3  2020     1    1.037137e+09     1.627167e+09 2020-01-01\n",
       "4  2020     2    8.491913e+08     1.533852e+09 2020-02-01\n",
       "5  2020     3    6.347654e+08     1.357245e+09 2020-03-01\n",
       "6  2020     4    7.406939e+08     1.303230e+09 2020-04-01\n",
       "7  2020     5    5.284708e+08     1.097296e+09 2020-05-01\n",
       "8  2020     6    3.455323e+08     8.362509e+08 2020-06-01\n",
       "9  2020     7    1.426375e+08     5.772894e+08 2020-07-01"
      ]
     },
     "execution_count": 29,
     "metadata": {},
     "output_type": "execute_result"
    }
   ],
   "source": [
    "df['Fecha'] = df['YEAR'].astype(str) + '-' + df['MONTH'].astype(str)\n",
    "df = df.dropna()\n",
    "df['Fecha'] = pd.to_datetime(df['Fecha'], format='%Y-%m')\n",
    "df"
   ]
  },
  {
   "cell_type": "code",
   "execution_count": 30,
   "metadata": {},
   "outputs": [
    {
     "data": {
      "image/png": "[encoded data removed]",
      "text/plain": [
       "<Figure size 1000x600 with 1 Axes>"
      ]
     },
     "metadata": {},
     "output_type": "display_data"
    }
   ],
   "source": [
    "# Assuming you have a DataFrame named df with the columns 'Date', 'Median_balance', and 'Average_balance'\n",
    "\n",
    "# Set the Seaborn style.\n",
    "sns.set_style(\"whitegrid\")\n",
    "\n",
    "# Create the plot using Seaborn\n",
    "plt.figure(figsize=(10, 6))\n",
    "sns.lineplot(data=df, x='Fecha', y='Median_balance', label='Mediana del Balance', marker='o')\n",
    "sns.lineplot(data=df, x='Fecha', y='Average_balance', label='Promedio del Balance', marker='o')\n",
    "\n",
    "# Add title and axis labels.\n",
    "plt.title('Evolución de la Mediana y Promedio del Balance')\n",
    "plt.xlabel('Fecha')\n",
    "plt.ylabel('Balance')\n",
    "plt.xticks(rotation=45)\n",
    "\n",
    "# Display legend\n",
    "plt.legend()\n",
    "\n",
    "# Show the graphic\n",
    "plt.show()\n"
   ]
  },
  {
   "cell_type": "markdown",
   "metadata": {},
   "source": [
    "Algo interesante de este grafico es la tendencia tanto del promedio como de la mediana del balance en disminuir a través del tiempo, si bien no tuvimos en cuenta los valores faltantes de la fecha de activación para este gráfico (13 según nuestro EDA que vendrían a ser tan solo 1,4% de nuestra muestra (muy poco significativo para afectar nuestro analisis)), podemos evidenciar que se han disminuido el balance por lo que podemos concluir dos cosas: o estamos activando menos cantidad de tarjetas o el balance de cada de una de esas tarjetas que activamos es menor, a mi parecer es la primera opción."
   ]
  },
  {
   "cell_type": "markdown",
   "metadata": {},
   "source": [
    "### Question 2\n",
    "- 2.1 Report in a table the following information for customers who activated their account and made their last payment during 2020: cust_id (excluding letters), activated_date (in format YYYY-MM), last_payment_date (in format YYYY-MM-DD), cash_advance, credit_limit, and a calculated field of cash_advance as a percentage of credit_limit.\n",
    "\n",
    "I'm going to use an SQL statement to answer this question. The command I'll use to fetch the information from my database is as follows:\n"
   ]
  },
  {
   "cell_type": "code",
   "execution_count": 33,
   "metadata": {},
   "outputs": [],
   "source": [
    "Statemente_2_1 = \"\"\"\n",
    "Select \n",
    "RIGHT(cust_id, LENGTH(cust_id)-1) as new_cust_id, \n",
    "to_char(activated_date,'YYYY-MM') as new_activated_date,\n",
    "to_char(last_payment_date,'YYYY-MM-DD') as new_last_payment_date,\n",
    "new_cash_advance,\n",
    "credit_limit,\n",
    "ROUND((new_cash_advance/credit_limit),2) calculated_field\n",
    "From\n",
    "(SELECT\n",
    "\tEXTRACT(YEAR FROM last_payment_date) AS year,\n",
    "    EXTRACT(MONTH FROM last_payment_date) AS month,\n",
    "\tcust_id,\n",
    "\tactivated_date,\n",
    "\tlast_payment_date,\n",
    "\tROUND((cash_advance/1000000),4)  as new_cash_advance,\n",
    "\tcredit_limit\n",
    "FROM\n",
    "    stori) as subconsulta\n",
    "Where subconsulta.year = 2020\n",
    "\"\"\""
   ]
  },
  {
   "cell_type": "code",
   "execution_count": 34,
   "metadata": {},
   "outputs": [
    {
     "name": "stdout",
     "output_type": "stream",
     "text": [
      "<class 'list'>\n"
     ]
    }
   ],
   "source": [
    "# Use the cursor to aim the data\n",
    "cursor = connection.cursor(cursor_factory=psycopg2.extras.DictCursor)\n",
    "cursor.execute(Statemente_2_1)\n",
    "df = cursor.fetchall()\n",
    "print(type(df))"
   ]
  },
  {
   "cell_type": "code",
   "execution_count": 36,
   "metadata": {},
   "outputs": [
    {
     "data": {
      "text/html": [
       "<div>\n",
       "<style scoped>\n",
       "    .dataframe tbody tr th:only-of-type {\n",
       "        vertical-align: middle;\n",
       "    }\n",
       "\n",
       "    .dataframe tbody tr th {\n",
       "        vertical-align: top;\n",
       "    }\n",
       "\n",
       "    .dataframe thead th {\n",
       "        text-align: right;\n",
       "    }\n",
       "</style>\n",
       "<table border=\"1\" class=\"dataframe\">\n",
       "  <thead>\n",
       "    <tr style=\"text-align: right;\">\n",
       "      <th></th>\n",
       "      <th>new_cust_id</th>\n",
       "      <th>new_activated_date</th>\n",
       "      <th>new_last_payment_date</th>\n",
       "      <th>new_cash_advance</th>\n",
       "      <th>credit_limit</th>\n",
       "      <th>calculated_field</th>\n",
       "    </tr>\n",
       "  </thead>\n",
       "  <tbody>\n",
       "    <tr>\n",
       "      <th>0</th>\n",
       "      <td>10001</td>\n",
       "      <td>2019-10</td>\n",
       "      <td>2020-09-09</td>\n",
       "      <td>0.0000</td>\n",
       "      <td>1000</td>\n",
       "      <td>0.00</td>\n",
       "    </tr>\n",
       "    <tr>\n",
       "      <th>1</th>\n",
       "      <td>10002</td>\n",
       "      <td>2019-10</td>\n",
       "      <td>2020-07-04</td>\n",
       "      <td>6442.9455</td>\n",
       "      <td>7000</td>\n",
       "      <td>0.92</td>\n",
       "    </tr>\n",
       "    <tr>\n",
       "      <th>2</th>\n",
       "      <td>10003</td>\n",
       "      <td>2019-10</td>\n",
       "      <td>2020-09-17</td>\n",
       "      <td>0.0000</td>\n",
       "      <td>7500</td>\n",
       "      <td>0.00</td>\n",
       "    </tr>\n",
       "    <tr>\n",
       "      <th>3</th>\n",
       "      <td>10004</td>\n",
       "      <td>2019-10</td>\n",
       "      <td>2020-08-24</td>\n",
       "      <td>205.7880</td>\n",
       "      <td>7500</td>\n",
       "      <td>0.03</td>\n",
       "    </tr>\n",
       "    <tr>\n",
       "      <th>4</th>\n",
       "      <td>10005</td>\n",
       "      <td>2019-10</td>\n",
       "      <td>2020-10-20</td>\n",
       "      <td>0.0000</td>\n",
       "      <td>1200</td>\n",
       "      <td>0.00</td>\n",
       "    </tr>\n",
       "  </tbody>\n",
       "</table>\n",
       "</div>"
      ],
      "text/plain": [
       "  new_cust_id new_activated_date new_last_payment_date new_cash_advance  \\\n",
       "0       10001            2019-10            2020-09-09           0.0000   \n",
       "1       10002            2019-10            2020-07-04        6442.9455   \n",
       "2       10003            2019-10            2020-09-17           0.0000   \n",
       "3       10004            2019-10            2020-08-24         205.7880   \n",
       "4       10005            2019-10            2020-10-20           0.0000   \n",
       "\n",
       "  credit_limit calculated_field  \n",
       "0         1000             0.00  \n",
       "1         7000             0.92  \n",
       "2         7500             0.00  \n",
       "3         7500             0.03  \n",
       "4         1200             0.00  "
      ]
     },
     "execution_count": 36,
     "metadata": {},
     "output_type": "execute_result"
    }
   ],
   "source": [
    "df = pd.DataFrame(df)\n",
    "df.columns =[\"new_cust_id\",\"new_activated_date\",\"new_last_payment_date\",\"new_cash_advance\",\"credit_limit\",\"calculated_field\"]\n",
    "df.head(5)"
   ]
  },
  {
   "cell_type": "markdown",
   "metadata": {},
   "source": [
    "### Question 3\n",
    "- 3.1 Build a predictive model for fraud.\n",
    "\n",
    "The first thing I'll do is fetch my original DataFrame again, removing non-numeric fields to avoid affecting my model."
   ]
  },
  {
   "cell_type": "code",
   "execution_count": 20,
   "metadata": {},
   "outputs": [],
   "source": [
    "#I select all my tables to then put them into a dataframe.\n",
    "Statement1_4 = \"\"\"\n",
    "Select\n",
    "ROUND((balance/1000000),4) balance,\n",
    "balance_frequency,\n",
    "purchases,\n",
    "oneoff_purchases,\n",
    "installments_purchases,\n",
    "ROUND((cash_advance/1000000),4)  as cash_advance,\n",
    "purchases_frequency,\n",
    "oneoff_purchases_frequency,\n",
    "purchases_installments_frequency,\n",
    "cash_advance_frequency,\n",
    "cash_advance_trx,\n",
    "purchases_trx,\n",
    "credit_limit,\n",
    "ROUND((payments/1000000),4) payments,\n",
    "ROUND((minimum_payments/1000000),4) minimum_payments,\n",
    "prc_full_payment,\n",
    "tenure,\n",
    "fraud\n",
    "FROM\n",
    "    stori\n",
    "\n",
    "\"\"\""
   ]
  },
  {
   "cell_type": "code",
   "execution_count": 21,
   "metadata": {},
   "outputs": [],
   "source": [
    "import numpy as np\n",
    "import pandas as pd\n",
    "from sklearn.model_selection import train_test_split\n",
    "from sklearn.linear_model import LogisticRegression\n",
    "from sklearn.metrics import accuracy_score"
   ]
  },
  {
   "cell_type": "code",
   "execution_count": 22,
   "metadata": {},
   "outputs": [
    {
     "name": "stdout",
     "output_type": "stream",
     "text": [
      "<class 'list'>\n"
     ]
    }
   ],
   "source": [
    "# Use the cursor to aim the data\n",
    "cursor = connection.cursor(cursor_factory=psycopg2.extras.DictCursor)\n",
    "cursor.execute(Statement1_4)\n",
    "df = cursor.fetchall()\n",
    "print(type(df))"
   ]
  },
  {
   "cell_type": "code",
   "execution_count": 23,
   "metadata": {},
   "outputs": [
    {
     "data": {
      "text/html": [
       "<div>\n",
       "<style scoped>\n",
       "    .dataframe tbody tr th:only-of-type {\n",
       "        vertical-align: middle;\n",
       "    }\n",
       "\n",
       "    .dataframe tbody tr th {\n",
       "        vertical-align: top;\n",
       "    }\n",
       "\n",
       "    .dataframe thead th {\n",
       "        text-align: right;\n",
       "    }\n",
       "</style>\n",
       "<table border=\"1\" class=\"dataframe\">\n",
       "  <thead>\n",
       "    <tr style=\"text-align: right;\">\n",
       "      <th></th>\n",
       "      <th>balance</th>\n",
       "      <th>balance_frequency</th>\n",
       "      <th>purchases</th>\n",
       "      <th>oneoff_purchases</th>\n",
       "      <th>installments_purchases</th>\n",
       "      <th>cash_advance</th>\n",
       "      <th>purchases_frequency</th>\n",
       "      <th>oneoff_purchases_frequency</th>\n",
       "      <th>purchases_installments_frequency</th>\n",
       "      <th>cash_advance_frequency</th>\n",
       "      <th>cash_advance_trx</th>\n",
       "      <th>purchases_trx</th>\n",
       "      <th>credit_limit</th>\n",
       "      <th>payments</th>\n",
       "      <th>minimum_payments</th>\n",
       "      <th>prc_full_payment</th>\n",
       "      <th>tenure</th>\n",
       "      <th>fraud</th>\n",
       "    </tr>\n",
       "  </thead>\n",
       "  <tbody>\n",
       "    <tr>\n",
       "      <th>0</th>\n",
       "      <td>40.9007</td>\n",
       "      <td>0.818182</td>\n",
       "      <td>95.4</td>\n",
       "      <td>0</td>\n",
       "      <td>95.4</td>\n",
       "      <td>0.0000</td>\n",
       "      <td>0.166667</td>\n",
       "      <td>0</td>\n",
       "      <td>0.083333</td>\n",
       "      <td>0</td>\n",
       "      <td>0</td>\n",
       "      <td>2</td>\n",
       "      <td>1000</td>\n",
       "      <td>201.8021</td>\n",
       "      <td>139.5098</td>\n",
       "      <td>0</td>\n",
       "      <td>12</td>\n",
       "      <td>0</td>\n",
       "    </tr>\n",
       "    <tr>\n",
       "      <th>1</th>\n",
       "      <td>3202.4674</td>\n",
       "      <td>0.909091</td>\n",
       "      <td>0</td>\n",
       "      <td>0</td>\n",
       "      <td>0</td>\n",
       "      <td>6442.9455</td>\n",
       "      <td>0</td>\n",
       "      <td>0</td>\n",
       "      <td>0</td>\n",
       "      <td>0.25</td>\n",
       "      <td>4</td>\n",
       "      <td>0</td>\n",
       "      <td>7000</td>\n",
       "      <td>4103.0326</td>\n",
       "      <td>1072.3402</td>\n",
       "      <td>0.222222</td>\n",
       "      <td>12</td>\n",
       "      <td>0</td>\n",
       "    </tr>\n",
       "    <tr>\n",
       "      <th>2</th>\n",
       "      <td>2495.1489</td>\n",
       "      <td>1</td>\n",
       "      <td>773.17</td>\n",
       "      <td>773.17</td>\n",
       "      <td>0</td>\n",
       "      <td>0.0000</td>\n",
       "      <td>1</td>\n",
       "      <td>1</td>\n",
       "      <td>0</td>\n",
       "      <td>0</td>\n",
       "      <td>0</td>\n",
       "      <td>12</td>\n",
       "      <td>7500</td>\n",
       "      <td>622.0667</td>\n",
       "      <td>627.2848</td>\n",
       "      <td>0</td>\n",
       "      <td>12</td>\n",
       "      <td>0</td>\n",
       "    </tr>\n",
       "    <tr>\n",
       "      <th>3</th>\n",
       "      <td>1666.6705</td>\n",
       "      <td>0.636364</td>\n",
       "      <td>1499</td>\n",
       "      <td>1499</td>\n",
       "      <td>0</td>\n",
       "      <td>205.7880</td>\n",
       "      <td>0.083333</td>\n",
       "      <td>0.083333</td>\n",
       "      <td>0</td>\n",
       "      <td>0.083333</td>\n",
       "      <td>1</td>\n",
       "      <td>1</td>\n",
       "      <td>7500</td>\n",
       "      <td>0.0000</td>\n",
       "      <td>None</td>\n",
       "      <td>0</td>\n",
       "      <td>12</td>\n",
       "      <td>0</td>\n",
       "    </tr>\n",
       "    <tr>\n",
       "      <th>4</th>\n",
       "      <td>817.7143</td>\n",
       "      <td>1</td>\n",
       "      <td>16</td>\n",
       "      <td>16</td>\n",
       "      <td>0</td>\n",
       "      <td>0.0000</td>\n",
       "      <td>0.083333</td>\n",
       "      <td>0.083333</td>\n",
       "      <td>0</td>\n",
       "      <td>0</td>\n",
       "      <td>0</td>\n",
       "      <td>1</td>\n",
       "      <td>1200</td>\n",
       "      <td>678.3348</td>\n",
       "      <td>244.7912</td>\n",
       "      <td>0</td>\n",
       "      <td>12</td>\n",
       "      <td>0</td>\n",
       "    </tr>\n",
       "  </tbody>\n",
       "</table>\n",
       "</div>"
      ],
      "text/plain": [
       "     balance balance_frequency purchases oneoff_purchases  \\\n",
       "0    40.9007          0.818182      95.4                0   \n",
       "1  3202.4674          0.909091         0                0   \n",
       "2  2495.1489                 1    773.17           773.17   \n",
       "3  1666.6705          0.636364      1499             1499   \n",
       "4   817.7143                 1        16               16   \n",
       "\n",
       "  installments_purchases cash_advance purchases_frequency  \\\n",
       "0                   95.4       0.0000            0.166667   \n",
       "1                      0    6442.9455                   0   \n",
       "2                      0       0.0000                   1   \n",
       "3                      0     205.7880            0.083333   \n",
       "4                      0       0.0000            0.083333   \n",
       "\n",
       "  oneoff_purchases_frequency purchases_installments_frequency  \\\n",
       "0                          0                         0.083333   \n",
       "1                          0                                0   \n",
       "2                          1                                0   \n",
       "3                   0.083333                                0   \n",
       "4                   0.083333                                0   \n",
       "\n",
       "  cash_advance_frequency  cash_advance_trx  purchases_trx credit_limit  \\\n",
       "0                      0                 0              2         1000   \n",
       "1                   0.25                 4              0         7000   \n",
       "2                      0                 0             12         7500   \n",
       "3               0.083333                 1              1         7500   \n",
       "4                      0                 0              1         1200   \n",
       "\n",
       "    payments minimum_payments prc_full_payment  tenure  fraud  \n",
       "0   201.8021         139.5098                0      12      0  \n",
       "1  4103.0326        1072.3402         0.222222      12      0  \n",
       "2   622.0667         627.2848                0      12      0  \n",
       "3     0.0000             None                0      12      0  \n",
       "4   678.3348         244.7912                0      12      0  "
      ]
     },
     "execution_count": 23,
     "metadata": {},
     "output_type": "execute_result"
    }
   ],
   "source": [
    "# I import pandas and define my dataframe object.\n",
    "import pandas as pd\n",
    "df = pd.DataFrame(df)\n",
    "df.columns =[\"balance\",\"balance_frequency\",\"purchases\",\"oneoff_purchases\",\"installments_purchases\",\"cash_advance\",\"purchases_frequency\",\"oneoff_purchases_frequency\",\"purchases_installments_frequency\",\"cash_advance_frequency\",\"cash_advance_trx\",\"purchases_trx\",\"credit_limit\",\"payments\",\"minimum_payments\",\"prc_full_payment\",\"tenure\",\"fraud\"]\n",
    "df.head(5)"
   ]
  },
  {
   "cell_type": "code",
   "execution_count": 114,
   "metadata": {},
   "outputs": [],
   "source": [
    "# Convert the data types of the Python DataFrame.\n",
    "df['balance'] = df['balance'].astype('float') # Convertir a tipo de dato float\n",
    "df['balance_frequency'] = df['balance_frequency'].astype('float') # Convertir a tipo de dato float\n",
    "df['purchases'] = df['purchases'].astype('float') # Convertir a tipo de dato float\n",
    "df['oneoff_purchases'] = df['oneoff_purchases'].astype('float') # Convertir a tipo de dato float\n",
    "df['installments_purchases'] = df['installments_purchases'].astype('float') # Convertir a tipo de dato float\n",
    "df['cash_advance'] = df['cash_advance'].astype('float') # Convertir a tipo de dato float\n",
    "df['purchases_frequency'] = df['purchases_frequency'].astype('float') # Convertir a tipo de dato float\n",
    "df['oneoff_purchases_frequency'] = df['oneoff_purchases_frequency'].astype('float') # Convertir a tipo de dato float\n",
    "df['purchases_installments_frequency'] = df['purchases_installments_frequency'].astype('float') # Convertir a tipo de dato float\n",
    "df['cash_advance_frequency'] = df['cash_advance_frequency'].astype('float') # Convertir a tipo de dato float\n",
    "df['cash_advance_trx'] = df['cash_advance_trx'].astype('int64') # Mantener como int64\n",
    "df['purchases_trx'] = df['purchases_trx'].astype('int64') # Mantener como int64\n",
    "df['credit_limit'] = df['credit_limit'].astype('float') # Convertir a tipo de dato float\n",
    "df['payments'] = df['payments'].astype('float') # Convertir a tipo de dato float\n",
    "df['minimum_payments'] = df['minimum_payments'].astype('float') # Convertir a tipo de dato float\n",
    "df['prc_full_payment'] = df['prc_full_payment'].astype('float') # Convertir a tipo de dato float\n",
    "df['tenure'] = df['tenure'].astype('int64') # Mantener como int64\n",
    "df['fraud'] = df['fraud'].astype('int64') # Mantener como int64"
   ]
  },
  {
   "cell_type": "markdown",
   "metadata": {},
   "source": [
    "### Replacing Null values\n",
    "\n",
    "Identifying null values is essential for ensuring data quality, guiding preprocessing decisions, optimizing model performance, and enhancing feature engineering in predictive modeling tasks."
   ]
  },
  {
   "cell_type": "code",
   "execution_count": 115,
   "metadata": {},
   "outputs": [
    {
     "data": {
      "text/plain": [
       "balance                               2\n",
       "balance_frequency                     0\n",
       "purchases                             0\n",
       "oneoff_purchases                      0\n",
       "installments_purchases                0\n",
       "cash_advance                        112\n",
       "purchases_frequency                   0\n",
       "oneoff_purchases_frequency            0\n",
       "purchases_installments_frequency      0\n",
       "cash_advance_frequency                0\n",
       "cash_advance_trx                      0\n",
       "purchases_trx                         0\n",
       "credit_limit                          1\n",
       "payments                              0\n",
       "minimum_payments                    321\n",
       "prc_full_payment                      0\n",
       "tenure                                0\n",
       "fraud                                 0\n",
       "dtype: int64"
      ]
     },
     "execution_count": 115,
     "metadata": {},
     "output_type": "execute_result"
    }
   ],
   "source": [
    "df.isnull().sum()"
   ]
  },
  {
   "cell_type": "markdown",
   "metadata": {},
   "source": [
    "**My data imputation method will be to replace null values with the mean.**"
   ]
  },
  {
   "cell_type": "code",
   "execution_count": 116,
   "metadata": {},
   "outputs": [],
   "source": [
    "# Calculate the mean of each column\n",
    "column_means1 = df[\"balance\"].mean()\n",
    "column_means2 = df[\"cash_advance\"].mean()\n",
    "column_means3 = df[\"credit_limit\"].mean()\n",
    "column_means4 = df[\"minimum_payments\"].mean()\n"
   ]
  },
  {
   "cell_type": "code",
   "execution_count": 117,
   "metadata": {},
   "outputs": [],
   "source": [
    "# Replace null values with the mean of the corresponding column\n",
    "df[\"balance\"].fillna(column_means1, inplace=True)\n",
    "df[\"cash_advance\"].fillna(column_means2, inplace=True)\n",
    "df[\"credit_limit\"].fillna(column_means3, inplace=True)\n",
    "df[\"minimum_payments\"].fillna(column_means4, inplace=True)"
   ]
  },
  {
   "cell_type": "code",
   "execution_count": 118,
   "metadata": {},
   "outputs": [
    {
     "data": {
      "text/plain": [
       "balance                             0\n",
       "balance_frequency                   0\n",
       "purchases                           0\n",
       "oneoff_purchases                    0\n",
       "installments_purchases              0\n",
       "cash_advance                        0\n",
       "purchases_frequency                 0\n",
       "oneoff_purchases_frequency          0\n",
       "purchases_installments_frequency    0\n",
       "cash_advance_frequency              0\n",
       "cash_advance_trx                    0\n",
       "purchases_trx                       0\n",
       "credit_limit                        0\n",
       "payments                            0\n",
       "minimum_payments                    0\n",
       "prc_full_payment                    0\n",
       "tenure                              0\n",
       "fraud                               0\n",
       "dtype: int64"
      ]
     },
     "execution_count": 118,
     "metadata": {},
     "output_type": "execute_result"
    }
   ],
   "source": [
    "#I verify that there are no null values affecting my model.\n",
    "df.isnull().sum()"
   ]
  },
  {
   "cell_type": "markdown",
   "metadata": {},
   "source": [
    "Identifying the distribution of my main variable (column fraud)\n",
    "\n",
    "- 0 --> Normal Transaction\n",
    "- 1 --> fraudulent transaction"
   ]
  },
  {
   "cell_type": "code",
   "execution_count": 119,
   "metadata": {},
   "outputs": [
    {
     "data": {
      "text/plain": [
       "0    8880\n",
       "1      70\n",
       "Name: fraud, dtype: int64"
      ]
     },
     "execution_count": 119,
     "metadata": {},
     "output_type": "execute_result"
    }
   ],
   "source": [
    "# distribution of legit transactions & fraudulent transactions\n",
    "df['fraud'].value_counts()"
   ]
  },
  {
   "cell_type": "code",
   "execution_count": 120,
   "metadata": {},
   "outputs": [],
   "source": [
    "# separating the data for analysis\n",
    "legit = df[df.fraud == 0]\n",
    "fraud = df[df.fraud == 1]"
   ]
  },
  {
   "cell_type": "code",
   "execution_count": 121,
   "metadata": {},
   "outputs": [
    {
     "name": "stdout",
     "output_type": "stream",
     "text": [
      "(8880, 18)\n",
      "(70, 18)\n"
     ]
    }
   ],
   "source": [
    "print(legit.shape)\n",
    "print(fraud.shape)"
   ]
  },
  {
   "cell_type": "code",
   "execution_count": 122,
   "metadata": {},
   "outputs": [
    {
     "data": {
      "text/html": [
       "<div>\n",
       "<style scoped>\n",
       "    .dataframe tbody tr th:only-of-type {\n",
       "        vertical-align: middle;\n",
       "    }\n",
       "\n",
       "    .dataframe tbody tr th {\n",
       "        vertical-align: top;\n",
       "    }\n",
       "\n",
       "    .dataframe thead th {\n",
       "        text-align: right;\n",
       "    }\n",
       "</style>\n",
       "<table border=\"1\" class=\"dataframe\">\n",
       "  <thead>\n",
       "    <tr style=\"text-align: right;\">\n",
       "      <th></th>\n",
       "      <th>balance</th>\n",
       "      <th>balance_frequency</th>\n",
       "      <th>purchases</th>\n",
       "      <th>oneoff_purchases</th>\n",
       "      <th>installments_purchases</th>\n",
       "      <th>cash_advance</th>\n",
       "      <th>purchases_frequency</th>\n",
       "      <th>oneoff_purchases_frequency</th>\n",
       "      <th>purchases_installments_frequency</th>\n",
       "      <th>cash_advance_frequency</th>\n",
       "      <th>cash_advance_trx</th>\n",
       "      <th>purchases_trx</th>\n",
       "      <th>credit_limit</th>\n",
       "      <th>payments</th>\n",
       "      <th>minimum_payments</th>\n",
       "      <th>prc_full_payment</th>\n",
       "      <th>tenure</th>\n",
       "    </tr>\n",
       "    <tr>\n",
       "      <th>fraud</th>\n",
       "      <th></th>\n",
       "      <th></th>\n",
       "      <th></th>\n",
       "      <th></th>\n",
       "      <th></th>\n",
       "      <th></th>\n",
       "      <th></th>\n",
       "      <th></th>\n",
       "      <th></th>\n",
       "      <th></th>\n",
       "      <th></th>\n",
       "      <th></th>\n",
       "      <th></th>\n",
       "      <th></th>\n",
       "      <th></th>\n",
       "      <th></th>\n",
       "      <th></th>\n",
       "    </tr>\n",
       "  </thead>\n",
       "  <tbody>\n",
       "    <tr>\n",
       "      <th>0</th>\n",
       "      <td>1340.428132</td>\n",
       "      <td>0.876530</td>\n",
       "      <td>904.3953</td>\n",
       "      <td>522.331735</td>\n",
       "      <td>382.366113</td>\n",
       "      <td>784.024854</td>\n",
       "      <td>0.487806</td>\n",
       "      <td>0.199271</td>\n",
       "      <td>0.361907</td>\n",
       "      <td>514.573004</td>\n",
       "      <td>3.162387</td>\n",
       "      <td>14.024775</td>\n",
       "      <td>4.865681e+06</td>\n",
       "      <td>1309.173108</td>\n",
       "      <td>631.844754</td>\n",
       "      <td>0.152943</td>\n",
       "      <td>11.515315</td>\n",
       "    </tr>\n",
       "    <tr>\n",
       "      <th>1</th>\n",
       "      <td>3158.552013</td>\n",
       "      <td>0.971299</td>\n",
       "      <td>13537.9000</td>\n",
       "      <td>9485.838000</td>\n",
       "      <td>4052.062000</td>\n",
       "      <td>1355.103631</td>\n",
       "      <td>0.813182</td>\n",
       "      <td>0.606713</td>\n",
       "      <td>0.685470</td>\n",
       "      <td>0.293939</td>\n",
       "      <td>14.214286</td>\n",
       "      <td>101.614286</td>\n",
       "      <td>1.272143e+04</td>\n",
       "      <td>2366.338341</td>\n",
       "      <td>2122.972917</td>\n",
       "      <td>0.251594</td>\n",
       "      <td>11.771429</td>\n",
       "    </tr>\n",
       "  </tbody>\n",
       "</table>\n",
       "</div>"
      ],
      "text/plain": [
       "           balance  balance_frequency   purchases  oneoff_purchases  \\\n",
       "fraud                                                                 \n",
       "0      1340.428132           0.876530    904.3953        522.331735   \n",
       "1      3158.552013           0.971299  13537.9000       9485.838000   \n",
       "\n",
       "       installments_purchases  cash_advance  purchases_frequency  \\\n",
       "fraud                                                              \n",
       "0                  382.366113    784.024854             0.487806   \n",
       "1                 4052.062000   1355.103631             0.813182   \n",
       "\n",
       "       oneoff_purchases_frequency  purchases_installments_frequency  \\\n",
       "fraud                                                                 \n",
       "0                        0.199271                          0.361907   \n",
       "1                        0.606713                          0.685470   \n",
       "\n",
       "       cash_advance_frequency  cash_advance_trx  purchases_trx  credit_limit  \\\n",
       "fraud                                                                          \n",
       "0                  514.573004          3.162387      14.024775  4.865681e+06   \n",
       "1                    0.293939         14.214286     101.614286  1.272143e+04   \n",
       "\n",
       "          payments  minimum_payments  prc_full_payment     tenure  \n",
       "fraud                                                              \n",
       "0      1309.173108        631.844754          0.152943  11.515315  \n",
       "1      2366.338341       2122.972917          0.251594  11.771429  "
      ]
     },
     "execution_count": 122,
     "metadata": {},
     "output_type": "execute_result"
    }
   ],
   "source": [
    "# compare the values for both transactions\n",
    "df.groupby('fraud').mean()"
   ]
  },
  {
   "cell_type": "markdown",
   "metadata": {},
   "source": [
    "Under-Sampling\n",
    "Build a sample dataset containing similar distribution of normal transactions and Fraudulent Transactions\n",
    "Number of Fraudulent Transactions --> 70"
   ]
  },
  {
   "cell_type": "code",
   "execution_count": 123,
   "metadata": {},
   "outputs": [],
   "source": [
    "legit_sample = legit.sample(n=70)"
   ]
  },
  {
   "cell_type": "markdown",
   "metadata": {},
   "source": [
    "Concatenating two DataFrames"
   ]
  },
  {
   "cell_type": "code",
   "execution_count": 124,
   "metadata": {},
   "outputs": [
    {
     "data": {
      "text/html": [
       "<div>\n",
       "<style scoped>\n",
       "    .dataframe tbody tr th:only-of-type {\n",
       "        vertical-align: middle;\n",
       "    }\n",
       "\n",
       "    .dataframe tbody tr th {\n",
       "        vertical-align: top;\n",
       "    }\n",
       "\n",
       "    .dataframe thead th {\n",
       "        text-align: right;\n",
       "    }\n",
       "</style>\n",
       "<table border=\"1\" class=\"dataframe\">\n",
       "  <thead>\n",
       "    <tr style=\"text-align: right;\">\n",
       "      <th></th>\n",
       "      <th>balance</th>\n",
       "      <th>balance_frequency</th>\n",
       "      <th>purchases</th>\n",
       "      <th>oneoff_purchases</th>\n",
       "      <th>installments_purchases</th>\n",
       "      <th>cash_advance</th>\n",
       "      <th>purchases_frequency</th>\n",
       "      <th>oneoff_purchases_frequency</th>\n",
       "      <th>purchases_installments_frequency</th>\n",
       "      <th>cash_advance_frequency</th>\n",
       "      <th>cash_advance_trx</th>\n",
       "      <th>purchases_trx</th>\n",
       "      <th>credit_limit</th>\n",
       "      <th>payments</th>\n",
       "      <th>minimum_payments</th>\n",
       "      <th>prc_full_payment</th>\n",
       "      <th>tenure</th>\n",
       "      <th>fraud</th>\n",
       "    </tr>\n",
       "  </thead>\n",
       "  <tbody>\n",
       "    <tr>\n",
       "      <th>6351</th>\n",
       "      <td>1981.1137</td>\n",
       "      <td>1.0</td>\n",
       "      <td>0.00</td>\n",
       "      <td>0.00</td>\n",
       "      <td>0.00</td>\n",
       "      <td>199.1832</td>\n",
       "      <td>0.000000</td>\n",
       "      <td>0.000000</td>\n",
       "      <td>0.000000</td>\n",
       "      <td>0.272727</td>\n",
       "      <td>3</td>\n",
       "      <td>0</td>\n",
       "      <td>2000.0</td>\n",
       "      <td>442.1713</td>\n",
       "      <td>3018.8920</td>\n",
       "      <td>0.000000</td>\n",
       "      <td>11</td>\n",
       "      <td>0</td>\n",
       "    </tr>\n",
       "    <tr>\n",
       "      <th>5156</th>\n",
       "      <td>5292.2644</td>\n",
       "      <td>1.0</td>\n",
       "      <td>0.00</td>\n",
       "      <td>0.00</td>\n",
       "      <td>0.00</td>\n",
       "      <td>3383.2997</td>\n",
       "      <td>0.000000</td>\n",
       "      <td>0.000000</td>\n",
       "      <td>0.000000</td>\n",
       "      <td>0.666667</td>\n",
       "      <td>9</td>\n",
       "      <td>0</td>\n",
       "      <td>8000.0</td>\n",
       "      <td>994.2102</td>\n",
       "      <td>1051.7093</td>\n",
       "      <td>0.000000</td>\n",
       "      <td>9</td>\n",
       "      <td>0</td>\n",
       "    </tr>\n",
       "    <tr>\n",
       "      <th>1812</th>\n",
       "      <td>1492.4334</td>\n",
       "      <td>1.0</td>\n",
       "      <td>99.75</td>\n",
       "      <td>34.32</td>\n",
       "      <td>65.43</td>\n",
       "      <td>0.0000</td>\n",
       "      <td>0.083333</td>\n",
       "      <td>0.083333</td>\n",
       "      <td>0.083333</td>\n",
       "      <td>0.000000</td>\n",
       "      <td>0</td>\n",
       "      <td>3</td>\n",
       "      <td>6000.0</td>\n",
       "      <td>2224.1876</td>\n",
       "      <td>382.9298</td>\n",
       "      <td>0.083333</td>\n",
       "      <td>12</td>\n",
       "      <td>0</td>\n",
       "    </tr>\n",
       "    <tr>\n",
       "      <th>5553</th>\n",
       "      <td>21.9608</td>\n",
       "      <td>1.0</td>\n",
       "      <td>175.45</td>\n",
       "      <td>0.00</td>\n",
       "      <td>175.45</td>\n",
       "      <td>0.0000</td>\n",
       "      <td>1.000000</td>\n",
       "      <td>0.000000</td>\n",
       "      <td>0.909091</td>\n",
       "      <td>0.000000</td>\n",
       "      <td>0</td>\n",
       "      <td>11</td>\n",
       "      <td>1500.0</td>\n",
       "      <td>143.6091</td>\n",
       "      <td>164.3616</td>\n",
       "      <td>0.777778</td>\n",
       "      <td>11</td>\n",
       "      <td>0</td>\n",
       "    </tr>\n",
       "    <tr>\n",
       "      <th>4295</th>\n",
       "      <td>876.8400</td>\n",
       "      <td>1.0</td>\n",
       "      <td>147.82</td>\n",
       "      <td>0.00</td>\n",
       "      <td>147.82</td>\n",
       "      <td>784.2293</td>\n",
       "      <td>0.250000</td>\n",
       "      <td>0.000000</td>\n",
       "      <td>0.250000</td>\n",
       "      <td>0.083333</td>\n",
       "      <td>1</td>\n",
       "      <td>3</td>\n",
       "      <td>1000.0</td>\n",
       "      <td>337.8128</td>\n",
       "      <td>355.1195</td>\n",
       "      <td>0.000000</td>\n",
       "      <td>12</td>\n",
       "      <td>0</td>\n",
       "    </tr>\n",
       "  </tbody>\n",
       "</table>\n",
       "</div>"
      ],
      "text/plain": [
       "        balance  balance_frequency  purchases  oneoff_purchases  \\\n",
       "6351  1981.1137                1.0       0.00              0.00   \n",
       "5156  5292.2644                1.0       0.00              0.00   \n",
       "1812  1492.4334                1.0      99.75             34.32   \n",
       "5553    21.9608                1.0     175.45              0.00   \n",
       "4295   876.8400                1.0     147.82              0.00   \n",
       "\n",
       "      installments_purchases  cash_advance  purchases_frequency  \\\n",
       "6351                    0.00      199.1832             0.000000   \n",
       "5156                    0.00     3383.2997             0.000000   \n",
       "1812                   65.43        0.0000             0.083333   \n",
       "5553                  175.45        0.0000             1.000000   \n",
       "4295                  147.82      784.2293             0.250000   \n",
       "\n",
       "      oneoff_purchases_frequency  purchases_installments_frequency  \\\n",
       "6351                    0.000000                          0.000000   \n",
       "5156                    0.000000                          0.000000   \n",
       "1812                    0.083333                          0.083333   \n",
       "5553                    0.000000                          0.909091   \n",
       "4295                    0.000000                          0.250000   \n",
       "\n",
       "      cash_advance_frequency  cash_advance_trx  purchases_trx  credit_limit  \\\n",
       "6351                0.272727                 3              0        2000.0   \n",
       "5156                0.666667                 9              0        8000.0   \n",
       "1812                0.000000                 0              3        6000.0   \n",
       "5553                0.000000                 0             11        1500.0   \n",
       "4295                0.083333                 1              3        1000.0   \n",
       "\n",
       "       payments  minimum_payments  prc_full_payment  tenure  fraud  \n",
       "6351   442.1713         3018.8920          0.000000      11      0  \n",
       "5156   994.2102         1051.7093          0.000000       9      0  \n",
       "1812  2224.1876          382.9298          0.083333      12      0  \n",
       "5553   143.6091          164.3616          0.777778      11      0  \n",
       "4295   337.8128          355.1195          0.000000      12      0  "
      ]
     },
     "execution_count": 124,
     "metadata": {},
     "output_type": "execute_result"
    }
   ],
   "source": [
    "new_dataset = pd.concat([legit_sample, fraud], axis=0)\n",
    "new_dataset.head()"
   ]
  },
  {
   "cell_type": "code",
   "execution_count": 125,
   "metadata": {},
   "outputs": [
    {
     "data": {
      "text/plain": [
       "0    70\n",
       "1    70\n",
       "Name: fraud, dtype: int64"
      ]
     },
     "execution_count": 125,
     "metadata": {},
     "output_type": "execute_result"
    }
   ],
   "source": [
    "new_dataset['fraud'].value_counts()"
   ]
  },
  {
   "cell_type": "markdown",
   "metadata": {},
   "source": [
    "Splitting the data into Features & Targets"
   ]
  },
  {
   "cell_type": "code",
   "execution_count": 126,
   "metadata": {},
   "outputs": [],
   "source": [
    "X = new_dataset.drop(columns='fraud', axis=1)\n",
    "Y = new_dataset['fraud']"
   ]
  },
  {
   "cell_type": "code",
   "execution_count": 127,
   "metadata": {},
   "outputs": [
    {
     "name": "stdout",
     "output_type": "stream",
     "text": [
      "        balance  balance_frequency  purchases  oneoff_purchases  \\\n",
      "6351  1981.1137           1.000000       0.00              0.00   \n",
      "5156  5292.2644           1.000000       0.00              0.00   \n",
      "1812  1492.4334           1.000000      99.75             34.32   \n",
      "5553    21.9608           1.000000     175.45              0.00   \n",
      "4295   876.8400           1.000000     147.82              0.00   \n",
      "...         ...                ...        ...               ...   \n",
      "7047  2980.0547           0.818182   26784.62          26514.32   \n",
      "7425  1439.4102           1.000000     184.70            184.70   \n",
      "7646  7081.1714           1.000000       0.00              0.00   \n",
      "7783   858.8802           1.000000      65.00             65.00   \n",
      "7891   191.3333           1.000000     637.19            168.54   \n",
      "\n",
      "      installments_purchases  cash_advance  purchases_frequency  \\\n",
      "6351                    0.00    199.183200             0.000000   \n",
      "5156                    0.00   3383.299700             0.000000   \n",
      "1812                   65.43      0.000000             0.083333   \n",
      "5553                  175.45      0.000000             1.000000   \n",
      "4295                  147.82    784.229300             0.250000   \n",
      "...                      ...           ...                  ...   \n",
      "7047                  270.30      0.000000             0.583333   \n",
      "7425                    0.00    788.491392             0.166667   \n",
      "7646                    0.00   2619.405000             0.000000   \n",
      "7783                    0.00    105.441100             0.083333   \n",
      "7891                  468.65      0.000000             1.000000   \n",
      "\n",
      "      oneoff_purchases_frequency  purchases_installments_frequency  \\\n",
      "6351                    0.000000                          0.000000   \n",
      "5156                    0.000000                          0.000000   \n",
      "1812                    0.083333                          0.083333   \n",
      "5553                    0.000000                          0.909091   \n",
      "4295                    0.000000                          0.250000   \n",
      "...                          ...                               ...   \n",
      "7047                    0.500000                          0.083333   \n",
      "7425                    0.166667                          0.000000   \n",
      "7646                    0.000000                          0.000000   \n",
      "7783                    0.083333                          0.000000   \n",
      "7891                    0.250000                          1.000000   \n",
      "\n",
      "      cash_advance_frequency  cash_advance_trx  purchases_trx  credit_limit  \\\n",
      "6351                0.272727                 3              0        2000.0   \n",
      "5156                0.666667                 9              0        8000.0   \n",
      "1812                0.000000                 0              3        6000.0   \n",
      "5553                0.000000                 0             11        1500.0   \n",
      "4295                0.083333                 1              3        1000.0   \n",
      "...                      ...               ...            ...           ...   \n",
      "7047                0.000000                 0             33       30000.0   \n",
      "7425                0.000000                 0              2        1500.0   \n",
      "7646                0.909091                69              0        9000.0   \n",
      "7783                0.416667                 6              1        3000.0   \n",
      "7891                0.000000                 0             37        2500.0   \n",
      "\n",
      "       payments  minimum_payments  prc_full_payment  tenure  \n",
      "6351   442.1713         3018.8920          0.000000      11  \n",
      "5156   994.2102         1051.7093          0.000000       9  \n",
      "1812  2224.1876          382.9298          0.083333      12  \n",
      "5553   143.6091          164.3616          0.777778      11  \n",
      "4295   337.8128          355.1195          0.000000      12  \n",
      "...         ...               ...               ...     ...  \n",
      "7047  3002.9015         1185.3796          0.750000      12  \n",
      "7425   299.9886          479.2614          0.000000      12  \n",
      "7646   201.9131         1926.0176          0.222222      11  \n",
      "7783  1288.1418          207.7710          0.000000      12  \n",
      "7891    47.8924          168.0155          0.000000      12  \n",
      "\n",
      "[140 rows x 17 columns]\n"
     ]
    }
   ],
   "source": [
    "print(X)"
   ]
  },
  {
   "cell_type": "code",
   "execution_count": 128,
   "metadata": {},
   "outputs": [
    {
     "name": "stdout",
     "output_type": "stream",
     "text": [
      "6351    0\n",
      "5156    0\n",
      "1812    0\n",
      "5553    0\n",
      "4295    0\n",
      "       ..\n",
      "7047    1\n",
      "7425    1\n",
      "7646    1\n",
      "7783    1\n",
      "7891    1\n",
      "Name: fraud, Length: 140, dtype: int64\n"
     ]
    }
   ],
   "source": [
    "print(Y)"
   ]
  },
  {
   "cell_type": "markdown",
   "metadata": {},
   "source": [
    "Split the data into Training data & Testing Data"
   ]
  },
  {
   "cell_type": "code",
   "execution_count": 129,
   "metadata": {},
   "outputs": [],
   "source": [
    "X_train, X_test, Y_train, Y_test = train_test_split(X, Y, test_size=0.2, stratify=Y, random_state=2)"
   ]
  },
  {
   "cell_type": "code",
   "execution_count": 130,
   "metadata": {},
   "outputs": [
    {
     "name": "stdout",
     "output_type": "stream",
     "text": [
      "(140, 17) (112, 17) (28, 17)\n"
     ]
    }
   ],
   "source": [
    "print(X.shape, X_train.shape, X_test.shape)"
   ]
  },
  {
   "cell_type": "markdown",
   "metadata": {},
   "source": [
    "Model Training\n",
    "Logistic Regression"
   ]
  },
  {
   "cell_type": "code",
   "execution_count": 131,
   "metadata": {},
   "outputs": [],
   "source": [
    "model = LogisticRegression()"
   ]
  },
  {
   "cell_type": "code",
   "execution_count": 132,
   "metadata": {},
   "outputs": [
    {
     "name": "stderr",
     "output_type": "stream",
     "text": [
      "c:\\Users\\calde\\AppData\\Local\\Programs\\Python\\Python310\\lib\\site-packages\\sklearn\\linear_model\\_logistic.py:469: ConvergenceWarning: lbfgs failed to converge (status=1):\n",
      "STOP: TOTAL NO. of ITERATIONS REACHED LIMIT.\n",
      "\n",
      "Increase the number of iterations (max_iter) or scale the data as shown in:\n",
      "    https://scikit-learn.org/stable/modules/preprocessing.html\n",
      "Please also refer to the documentation for alternative solver options:\n",
      "    https://scikit-learn.org/stable/modules/linear_model.html#logistic-regression\n",
      "  n_iter_i = _check_optimize_result(\n"
     ]
    },
    {
     "data": {
      "text/html": [
       "<style>#sk-container-id-1 {\n",
       "  /* Definition of color scheme common for light and dark mode */\n",
       "  --sklearn-color-text: black;\n",
       "  --sklearn-color-line: gray;\n",
       "  /* Definition of color scheme for unfitted estimators */\n",
       "  --sklearn-color-unfitted-level-0: #fff5e6;\n",
       "  --sklearn-color-unfitted-level-1: #f6e4d2;\n",
       "  --sklearn-color-unfitted-level-2: #ffe0b3;\n",
       "  --sklearn-color-unfitted-level-3: chocolate;\n",
       "  /* Definition of color scheme for fitted estimators */\n",
       "  --sklearn-color-fitted-level-0: #f0f8ff;\n",
       "  --sklearn-color-fitted-level-1: #d4ebff;\n",
       "  --sklearn-color-fitted-level-2: #b3dbfd;\n",
       "  --sklearn-color-fitted-level-3: cornflowerblue;\n",
       "\n",
       "  /* Specific color for light theme */\n",
       "  --sklearn-color-text-on-default-background: var(--sg-text-color, var(--theme-code-foreground, var(--jp-content-font-color1, black)));\n",
       "  --sklearn-color-background: var(--sg-background-color, var(--theme-background, var(--jp-layout-color0, white)));\n",
       "  --sklearn-color-border-box: var(--sg-text-color, var(--theme-code-foreground, var(--jp-content-font-color1, black)));\n",
       "  --sklearn-color-icon: #696969;\n",
       "\n",
       "  @media (prefers-color-scheme: dark) {\n",
       "    /* Redefinition of color scheme for dark theme */\n",
       "    --sklearn-color-text-on-default-background: var(--sg-text-color, var(--theme-code-foreground, var(--jp-content-font-color1, white)));\n",
       "    --sklearn-color-background: var(--sg-background-color, var(--theme-background, var(--jp-layout-color0, #111)));\n",
       "    --sklearn-color-border-box: var(--sg-text-color, var(--theme-code-foreground, var(--jp-content-font-color1, white)));\n",
       "    --sklearn-color-icon: #878787;\n",
       "  }\n",
       "}\n",
       "\n",
       "#sk-container-id-1 {\n",
       "  color: var(--sklearn-color-text);\n",
       "}\n",
       "\n",
       "#sk-container-id-1 pre {\n",
       "  padding: 0;\n",
       "}\n",
       "\n",
       "#sk-container-id-1 input.sk-hidden--visually {\n",
       "  border: 0;\n",
       "  clip: rect(1px 1px 1px 1px);\n",
       "  clip: rect(1px, 1px, 1px, 1px);\n",
       "  height: 1px;\n",
       "  margin: -1px;\n",
       "  overflow: hidden;\n",
       "  padding: 0;\n",
       "  position: absolute;\n",
       "  width: 1px;\n",
       "}\n",
       "\n",
       "#sk-container-id-1 div.sk-dashed-wrapped {\n",
       "  border: 1px dashed var(--sklearn-color-line);\n",
       "  margin: 0 0.4em 0.5em 0.4em;\n",
       "  box-sizing: border-box;\n",
       "  padding-bottom: 0.4em;\n",
       "  background-color: var(--sklearn-color-background);\n",
       "}\n",
       "\n",
       "#sk-container-id-1 div.sk-container {\n",
       "  /* jupyter's `normalize.less` sets `[hidden] { display: none; }`\n",
       "     but bootstrap.min.css set `[hidden] { display: none !important; }`\n",
       "     so we also need the `!important` here to be able to override the\n",
       "     default hidden behavior on the sphinx rendered scikit-learn.org.\n",
       "     See: https://github.com/scikit-learn/scikit-learn/issues/21755 */\n",
       "  display: inline-block !important;\n",
       "  position: relative;\n",
       "}\n",
       "\n",
       "#sk-container-id-1 div.sk-text-repr-fallback {\n",
       "  display: none;\n",
       "}\n",
       "\n",
       "div.sk-parallel-item,\n",
       "div.sk-serial,\n",
       "div.sk-item {\n",
       "  /* draw centered vertical line to link estimators */\n",
       "  background-image: linear-gradient(var(--sklearn-color-text-on-default-background), var(--sklearn-color-text-on-default-background));\n",
       "  background-size: 2px 100%;\n",
       "  background-repeat: no-repeat;\n",
       "  background-position: center center;\n",
       "}\n",
       "\n",
       "/* Parallel-specific style estimator block */\n",
       "\n",
       "#sk-container-id-1 div.sk-parallel-item::after {\n",
       "  content: \"\";\n",
       "  width: 100%;\n",
       "  border-bottom: 2px solid var(--sklearn-color-text-on-default-background);\n",
       "  flex-grow: 1;\n",
       "}\n",
       "\n",
       "#sk-container-id-1 div.sk-parallel {\n",
       "  display: flex;\n",
       "  align-items: stretch;\n",
       "  justify-content: center;\n",
       "  background-color: var(--sklearn-color-background);\n",
       "  position: relative;\n",
       "}\n",
       "\n",
       "#sk-container-id-1 div.sk-parallel-item {\n",
       "  display: flex;\n",
       "  flex-direction: column;\n",
       "}\n",
       "\n",
       "#sk-container-id-1 div.sk-parallel-item:first-child::after {\n",
       "  align-self: flex-end;\n",
       "  width: 50%;\n",
       "}\n",
       "\n",
       "#sk-container-id-1 div.sk-parallel-item:last-child::after {\n",
       "  align-self: flex-start;\n",
       "  width: 50%;\n",
       "}\n",
       "\n",
       "#sk-container-id-1 div.sk-parallel-item:only-child::after {\n",
       "  width: 0;\n",
       "}\n",
       "\n",
       "/* Serial-specific style estimator block */\n",
       "\n",
       "#sk-container-id-1 div.sk-serial {\n",
       "  display: flex;\n",
       "  flex-direction: column;\n",
       "  align-items: center;\n",
       "  background-color: var(--sklearn-color-background);\n",
       "  padding-right: 1em;\n",
       "  padding-left: 1em;\n",
       "}\n",
       "\n",
       "\n",
       "/* Toggleable style: style used for estimator/Pipeline/ColumnTransformer box that is\n",
       "clickable and can be expanded/collapsed.\n",
       "- Pipeline and ColumnTransformer use this feature and define the default style\n",
       "- Estimators will overwrite some part of the style using the `sk-estimator` class\n",
       "*/\n",
       "\n",
       "/* Pipeline and ColumnTransformer style (default) */\n",
       "\n",
       "#sk-container-id-1 div.sk-toggleable {\n",
       "  /* Default theme specific background. It is overwritten whether we have a\n",
       "  specific estimator or a Pipeline/ColumnTransformer */\n",
       "  background-color: var(--sklearn-color-background);\n",
       "}\n",
       "\n",
       "/* Toggleable label */\n",
       "#sk-container-id-1 label.sk-toggleable__label {\n",
       "  cursor: pointer;\n",
       "  display: block;\n",
       "  width: 100%;\n",
       "  margin-bottom: 0;\n",
       "  padding: 0.5em;\n",
       "  box-sizing: border-box;\n",
       "  text-align: center;\n",
       "}\n",
       "\n",
       "#sk-container-id-1 label.sk-toggleable__label-arrow:before {\n",
       "  /* Arrow on the left of the label */\n",
       "  content: \"▸\";\n",
       "  float: left;\n",
       "  margin-right: 0.25em;\n",
       "  color: var(--sklearn-color-icon);\n",
       "}\n",
       "\n",
       "#sk-container-id-1 label.sk-toggleable__label-arrow:hover:before {\n",
       "  color: var(--sklearn-color-text);\n",
       "}\n",
       "\n",
       "/* Toggleable content - dropdown */\n",
       "\n",
       "#sk-container-id-1 div.sk-toggleable__content {\n",
       "  max-height: 0;\n",
       "  max-width: 0;\n",
       "  overflow: hidden;\n",
       "  text-align: left;\n",
       "  /* unfitted */\n",
       "  background-color: var(--sklearn-color-unfitted-level-0);\n",
       "}\n",
       "\n",
       "#sk-container-id-1 div.sk-toggleable__content.fitted {\n",
       "  /* fitted */\n",
       "  background-color: var(--sklearn-color-fitted-level-0);\n",
       "}\n",
       "\n",
       "#sk-container-id-1 div.sk-toggleable__content pre {\n",
       "  margin: 0.2em;\n",
       "  border-radius: 0.25em;\n",
       "  color: var(--sklearn-color-text);\n",
       "  /* unfitted */\n",
       "  background-color: var(--sklearn-color-unfitted-level-0);\n",
       "}\n",
       "\n",
       "#sk-container-id-1 div.sk-toggleable__content.fitted pre {\n",
       "  /* unfitted */\n",
       "  background-color: var(--sklearn-color-fitted-level-0);\n",
       "}\n",
       "\n",
       "#sk-container-id-1 input.sk-toggleable__control:checked~div.sk-toggleable__content {\n",
       "  /* Expand drop-down */\n",
       "  max-height: 200px;\n",
       "  max-width: 100%;\n",
       "  overflow: auto;\n",
       "}\n",
       "\n",
       "#sk-container-id-1 input.sk-toggleable__control:checked~label.sk-toggleable__label-arrow:before {\n",
       "  content: \"▾\";\n",
       "}\n",
       "\n",
       "/* Pipeline/ColumnTransformer-specific style */\n",
       "\n",
       "#sk-container-id-1 div.sk-label input.sk-toggleable__control:checked~label.sk-toggleable__label {\n",
       "  color: var(--sklearn-color-text);\n",
       "  background-color: var(--sklearn-color-unfitted-level-2);\n",
       "}\n",
       "\n",
       "#sk-container-id-1 div.sk-label.fitted input.sk-toggleable__control:checked~label.sk-toggleable__label {\n",
       "  background-color: var(--sklearn-color-fitted-level-2);\n",
       "}\n",
       "\n",
       "/* Estimator-specific style */\n",
       "\n",
       "/* Colorize estimator box */\n",
       "#sk-container-id-1 div.sk-estimator input.sk-toggleable__control:checked~label.sk-toggleable__label {\n",
       "  /* unfitted */\n",
       "  background-color: var(--sklearn-color-unfitted-level-2);\n",
       "}\n",
       "\n",
       "#sk-container-id-1 div.sk-estimator.fitted input.sk-toggleable__control:checked~label.sk-toggleable__label {\n",
       "  /* fitted */\n",
       "  background-color: var(--sklearn-color-fitted-level-2);\n",
       "}\n",
       "\n",
       "#sk-container-id-1 div.sk-label label.sk-toggleable__label,\n",
       "#sk-container-id-1 div.sk-label label {\n",
       "  /* The background is the default theme color */\n",
       "  color: var(--sklearn-color-text-on-default-background);\n",
       "}\n",
       "\n",
       "/* On hover, darken the color of the background */\n",
       "#sk-container-id-1 div.sk-label:hover label.sk-toggleable__label {\n",
       "  color: var(--sklearn-color-text);\n",
       "  background-color: var(--sklearn-color-unfitted-level-2);\n",
       "}\n",
       "\n",
       "/* Label box, darken color on hover, fitted */\n",
       "#sk-container-id-1 div.sk-label.fitted:hover label.sk-toggleable__label.fitted {\n",
       "  color: var(--sklearn-color-text);\n",
       "  background-color: var(--sklearn-color-fitted-level-2);\n",
       "}\n",
       "\n",
       "/* Estimator label */\n",
       "\n",
       "#sk-container-id-1 div.sk-label label {\n",
       "  font-family: monospace;\n",
       "  font-weight: bold;\n",
       "  display: inline-block;\n",
       "  line-height: 1.2em;\n",
       "}\n",
       "\n",
       "#sk-container-id-1 div.sk-label-container {\n",
       "  text-align: center;\n",
       "}\n",
       "\n",
       "/* Estimator-specific */\n",
       "#sk-container-id-1 div.sk-estimator {\n",
       "  font-family: monospace;\n",
       "  border: 1px dotted var(--sklearn-color-border-box);\n",
       "  border-radius: 0.25em;\n",
       "  box-sizing: border-box;\n",
       "  margin-bottom: 0.5em;\n",
       "  /* unfitted */\n",
       "  background-color: var(--sklearn-color-unfitted-level-0);\n",
       "}\n",
       "\n",
       "#sk-container-id-1 div.sk-estimator.fitted {\n",
       "  /* fitted */\n",
       "  background-color: var(--sklearn-color-fitted-level-0);\n",
       "}\n",
       "\n",
       "/* on hover */\n",
       "#sk-container-id-1 div.sk-estimator:hover {\n",
       "  /* unfitted */\n",
       "  background-color: var(--sklearn-color-unfitted-level-2);\n",
       "}\n",
       "\n",
       "#sk-container-id-1 div.sk-estimator.fitted:hover {\n",
       "  /* fitted */\n",
       "  background-color: var(--sklearn-color-fitted-level-2);\n",
       "}\n",
       "\n",
       "/* Specification for estimator info (e.g. \"i\" and \"?\") */\n",
       "\n",
       "/* Common style for \"i\" and \"?\" */\n",
       "\n",
       ".sk-estimator-doc-link,\n",
       "a:link.sk-estimator-doc-link,\n",
       "a:visited.sk-estimator-doc-link {\n",
       "  float: right;\n",
       "  font-size: smaller;\n",
       "  line-height: 1em;\n",
       "  font-family: monospace;\n",
       "  background-color: var(--sklearn-color-background);\n",
       "  border-radius: 1em;\n",
       "  height: 1em;\n",
       "  width: 1em;\n",
       "  text-decoration: none !important;\n",
       "  margin-left: 1ex;\n",
       "  /* unfitted */\n",
       "  border: var(--sklearn-color-unfitted-level-1) 1pt solid;\n",
       "  color: var(--sklearn-color-unfitted-level-1);\n",
       "}\n",
       "\n",
       ".sk-estimator-doc-link.fitted,\n",
       "a:link.sk-estimator-doc-link.fitted,\n",
       "a:visited.sk-estimator-doc-link.fitted {\n",
       "  /* fitted */\n",
       "  border: var(--sklearn-color-fitted-level-1) 1pt solid;\n",
       "  color: var(--sklearn-color-fitted-level-1);\n",
       "}\n",
       "\n",
       "/* On hover */\n",
       "div.sk-estimator:hover .sk-estimator-doc-link:hover,\n",
       ".sk-estimator-doc-link:hover,\n",
       "div.sk-label-container:hover .sk-estimator-doc-link:hover,\n",
       ".sk-estimator-doc-link:hover {\n",
       "  /* unfitted */\n",
       "  background-color: var(--sklearn-color-unfitted-level-3);\n",
       "  color: var(--sklearn-color-background);\n",
       "  text-decoration: none;\n",
       "}\n",
       "\n",
       "div.sk-estimator.fitted:hover .sk-estimator-doc-link.fitted:hover,\n",
       ".sk-estimator-doc-link.fitted:hover,\n",
       "div.sk-label-container:hover .sk-estimator-doc-link.fitted:hover,\n",
       ".sk-estimator-doc-link.fitted:hover {\n",
       "  /* fitted */\n",
       "  background-color: var(--sklearn-color-fitted-level-3);\n",
       "  color: var(--sklearn-color-background);\n",
       "  text-decoration: none;\n",
       "}\n",
       "\n",
       "/* Span, style for the box shown on hovering the info icon */\n",
       ".sk-estimator-doc-link span {\n",
       "  display: none;\n",
       "  z-index: 9999;\n",
       "  position: relative;\n",
       "  font-weight: normal;\n",
       "  right: .2ex;\n",
       "  padding: .5ex;\n",
       "  margin: .5ex;\n",
       "  width: min-content;\n",
       "  min-width: 20ex;\n",
       "  max-width: 50ex;\n",
       "  color: var(--sklearn-color-text);\n",
       "  box-shadow: 2pt 2pt 4pt #999;\n",
       "  /* unfitted */\n",
       "  background: var(--sklearn-color-unfitted-level-0);\n",
       "  border: .5pt solid var(--sklearn-color-unfitted-level-3);\n",
       "}\n",
       "\n",
       ".sk-estimator-doc-link.fitted span {\n",
       "  /* fitted */\n",
       "  background: var(--sklearn-color-fitted-level-0);\n",
       "  border: var(--sklearn-color-fitted-level-3);\n",
       "}\n",
       "\n",
       ".sk-estimator-doc-link:hover span {\n",
       "  display: block;\n",
       "}\n",
       "\n",
       "/* \"?\"-specific style due to the `<a>` HTML tag */\n",
       "\n",
       "#sk-container-id-1 a.estimator_doc_link {\n",
       "  float: right;\n",
       "  font-size: 1rem;\n",
       "  line-height: 1em;\n",
       "  font-family: monospace;\n",
       "  background-color: var(--sklearn-color-background);\n",
       "  border-radius: 1rem;\n",
       "  height: 1rem;\n",
       "  width: 1rem;\n",
       "  text-decoration: none;\n",
       "  /* unfitted */\n",
       "  color: var(--sklearn-color-unfitted-level-1);\n",
       "  border: var(--sklearn-color-unfitted-level-1) 1pt solid;\n",
       "}\n",
       "\n",
       "#sk-container-id-1 a.estimator_doc_link.fitted {\n",
       "  /* fitted */\n",
       "  border: var(--sklearn-color-fitted-level-1) 1pt solid;\n",
       "  color: var(--sklearn-color-fitted-level-1);\n",
       "}\n",
       "\n",
       "/* On hover */\n",
       "#sk-container-id-1 a.estimator_doc_link:hover {\n",
       "  /* unfitted */\n",
       "  background-color: var(--sklearn-color-unfitted-level-3);\n",
       "  color: var(--sklearn-color-background);\n",
       "  text-decoration: none;\n",
       "}\n",
       "\n",
       "#sk-container-id-1 a.estimator_doc_link.fitted:hover {\n",
       "  /* fitted */\n",
       "  background-color: var(--sklearn-color-fitted-level-3);\n",
       "}\n",
       "</style><div id=\"sk-container-id-1\" class=\"sk-top-container\"><div class=\"sk-text-repr-fallback\"><pre>LogisticRegression()</pre><b>In a Jupyter environment, please rerun this cell to show the HTML representation or trust the notebook. <br />On GitHub, the HTML representation is unable to render, please try loading this page with nbviewer.org.</b></div><div class=\"sk-container\" hidden><div class=\"sk-item\"><div class=\"sk-estimator fitted sk-toggleable\"><input class=\"sk-toggleable__control sk-hidden--visually\" id=\"sk-estimator-id-1\" type=\"checkbox\" checked><label for=\"sk-estimator-id-1\" class=\"sk-toggleable__label fitted sk-toggleable__label-arrow fitted\">&nbsp;&nbsp;LogisticRegression<a class=\"sk-estimator-doc-link fitted\" rel=\"noreferrer\" target=\"_blank\" href=\"https://scikit-learn.org/1.4/modules/generated/sklearn.linear_model.LogisticRegression.html\">?<span>Documentation for LogisticRegression</span></a><span class=\"sk-estimator-doc-link fitted\">i<span>Fitted</span></span></label><div class=\"sk-toggleable__content fitted\"><pre>LogisticRegression()</pre></div> </div></div></div></div>"
      ],
      "text/plain": [
       "LogisticRegression()"
      ]
     },
     "execution_count": 132,
     "metadata": {},
     "output_type": "execute_result"
    }
   ],
   "source": [
    "# training the Logistic Regression Model with Training Data\n",
    "model.fit(X_train, Y_train)"
   ]
  },
  {
   "cell_type": "markdown",
   "metadata": {},
   "source": [
    "Model Evaluation\n",
    "Accuracy Score"
   ]
  },
  {
   "cell_type": "code",
   "execution_count": 133,
   "metadata": {},
   "outputs": [],
   "source": [
    "# accuracy on training data\n",
    "X_train_prediction = model.predict(X_train)\n",
    "training_data_accuracy = accuracy_score(X_train_prediction, Y_train)"
   ]
  },
  {
   "cell_type": "code",
   "execution_count": 134,
   "metadata": {},
   "outputs": [
    {
     "name": "stdout",
     "output_type": "stream",
     "text": [
      "Accuracy on Training data :  0.9017857142857143\n"
     ]
    }
   ],
   "source": [
    "print('Accuracy on Training data : ', training_data_accuracy)"
   ]
  },
  {
   "cell_type": "code",
   "execution_count": 135,
   "metadata": {},
   "outputs": [],
   "source": [
    "# accuracy on test data\n",
    "X_test_prediction = model.predict(X_test)\n",
    "test_data_accuracy = accuracy_score(X_test_prediction, Y_test)"
   ]
  },
  {
   "cell_type": "code",
   "execution_count": 136,
   "metadata": {},
   "outputs": [
    {
     "name": "stdout",
     "output_type": "stream",
     "text": [
      "Accuracy score on Test Data :  0.9285714285714286\n"
     ]
    }
   ],
   "source": [
    "print('Accuracy score on Test Data : ', test_data_accuracy)"
   ]
  }
 ],
 "metadata": {
  "kernelspec": {
   "display_name": "Python 3",
   "language": "python",
   "name": "python3"
  },
  "language_info": {
   "codemirror_mode": {
    "name": "ipython",
    "version": 3
   },
   "file_extension": ".py",
   "mimetype": "text/x-python",
   "name": "python",
   "nbconvert_exporter": "python",
   "pygments_lexer": "ipython3",
   "version": "3.10.9"
  }
 },
 "nbformat": 4,
 "nbformat_minor": 2
}
